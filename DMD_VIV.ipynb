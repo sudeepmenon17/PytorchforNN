{
  "nbformat": 4,
  "nbformat_minor": 0,
  "metadata": {
    "colab": {
      "provenance": [],
      "authorship_tag": "ABX9TyPUgWfflqcrvXgiMZaVkSAC",
      "include_colab_link": true
    },
    "kernelspec": {
      "name": "python3",
      "display_name": "Python 3"
    },
    "language_info": {
      "name": "python"
    }
  },
  "cells": [
    {
      "cell_type": "markdown",
      "metadata": {
        "id": "view-in-github",
        "colab_type": "text"
      },
      "source": [
        "<a href=\"https://colab.research.google.com/github/sudeepmenon17/PytorchforNN/blob/main/DMD_VIV.ipynb\" target=\"_parent\"><img src=\"https://colab.research.google.com/assets/colab-badge.svg\" alt=\"Open In Colab\"/></a>"
      ]
    },
    {
      "cell_type": "code",
      "source": [
        "!pip install google-auth\n",
        "from google.colab import auth\n",
        "from google.colab import drive\n",
        "\n",
        "drive.mount('/content/drive')\n"
      ],
      "metadata": {
        "colab": {
          "base_uri": "https://localhost:8080/"
        },
        "id": "Ko9w83mqzBIl",
        "outputId": "5877a117-34fb-48f8-cd24-5b0c300f8bf7"
      },
      "execution_count": 2,
      "outputs": [
        {
          "output_type": "stream",
          "name": "stdout",
          "text": [
            "Requirement already satisfied: google-auth in /usr/local/lib/python3.10/dist-packages (2.27.0)\n",
            "Requirement already satisfied: cachetools<6.0,>=2.0.0 in /usr/local/lib/python3.10/dist-packages (from google-auth) (5.5.0)\n",
            "Requirement already satisfied: pyasn1-modules>=0.2.1 in /usr/local/lib/python3.10/dist-packages (from google-auth) (0.4.1)\n",
            "Requirement already satisfied: rsa<5,>=3.1.4 in /usr/local/lib/python3.10/dist-packages (from google-auth) (4.9)\n",
            "Requirement already satisfied: pyasn1<0.7.0,>=0.4.6 in /usr/local/lib/python3.10/dist-packages (from pyasn1-modules>=0.2.1->google-auth) (0.6.1)\n",
            "Mounted at /content/drive\n"
          ]
        }
      ]
    },
    {
      "cell_type": "code",
      "execution_count": 3,
      "metadata": {
        "id": "e5GP_pM8y25m"
      },
      "outputs": [],
      "source": [
        "import numpy as np\n",
        "import matplotlib.pyplot as plt\n",
        "from scipy.io import loadmat\n",
        "from numpy.linalg import svd, eig, pinv\n",
        "from matplotlib.colors import ListedColormap\n",
        "\n",
        "# Load Ground_data.mat\n",
        "file_path = '/content/drive/MyDrive/Re500_RV5_D0p9/Ground_data.mat'\n",
        "data = loadmat(file_path)\n",
        "\n",
        "Xnew = data['Xnew']  # Vorticity data\n",
        "nxi = int(data['nxi'].item())  # Number of x grid points\n",
        "nyi = int(data['nyi'].item())  # Number of y grid points\n",
        "pxnew = data['pxnew'].flatten()  # x-coordinates\n",
        "pynew = data['pynew'].flatten()  # y-coordinates\n",
        "Time = data['Time'].flatten()  # Time array\n",
        "\n",
        "# Load CCcool colormap\n",
        "cccool_data = loadmat('/content/drive/MyDrive/Re500_RV5_D0p9/CCcool.mat')\n",
        "CC = cccool_data['CC']\n",
        "custom_cmap = ListedColormap(CC)"
      ]
    },
    {
      "cell_type": "code",
      "source": [],
      "metadata": {
        "id": "-OoYVQVrzMS1"
      },
      "execution_count": null,
      "outputs": []
    }
  ]
}