{
  "nbformat": 4,
  "nbformat_minor": 0,
  "metadata": {
    "colab": {
      "provenance": [],
      "authorship_tag": "ABX9TyOEEFkx1yVXhfTBFl223wc1",
      "include_colab_link": true
    },
    "kernelspec": {
      "name": "python3",
      "display_name": "Python 3"
    },
    "language_info": {
      "name": "python"
    }
  },
  "cells": [
    {
      "cell_type": "markdown",
      "metadata": {
        "id": "view-in-github",
        "colab_type": "text"
      },
      "source": [
        "<a href=\"https://colab.research.google.com/github/sudeepmenon17/PytorchforNN/blob/main/pth_to_tf.ipynb\" target=\"_parent\"><img src=\"https://colab.research.google.com/assets/colab-badge.svg\" alt=\"Open In Colab\"/></a>"
      ]
    },
    {
      "cell_type": "code",
      "execution_count": 20,
      "metadata": {
        "colab": {
          "base_uri": "https://localhost:8080/"
        },
        "id": "PndzeAU_bt-J",
        "outputId": "a7f62dd1-dcef-454e-9127-ad89805d42d1"
      },
      "outputs": [
        {
          "output_type": "stream",
          "name": "stdout",
          "text": [
            "Requirement already satisfied: google-auth in /usr/local/lib/python3.11/dist-packages (2.38.0)\n",
            "Requirement already satisfied: cachetools<6.0,>=2.0.0 in /usr/local/lib/python3.11/dist-packages (from google-auth) (5.5.2)\n",
            "Requirement already satisfied: pyasn1-modules>=0.2.1 in /usr/local/lib/python3.11/dist-packages (from google-auth) (0.4.2)\n",
            "Requirement already satisfied: rsa<5,>=3.1.4 in /usr/local/lib/python3.11/dist-packages (from google-auth) (4.9.1)\n",
            "Requirement already satisfied: pyasn1<0.7.0,>=0.6.1 in /usr/local/lib/python3.11/dist-packages (from pyasn1-modules>=0.2.1->google-auth) (0.6.1)\n",
            "Drive already mounted at /content/drive; to attempt to forcibly remount, call drive.mount(\"/content/drive\", force_remount=True).\n",
            "Requirement already satisfied: onnx in /usr/local/lib/python3.11/dist-packages (1.18.0)\n",
            "Requirement already satisfied: numpy>=1.22 in /usr/local/lib/python3.11/dist-packages (from onnx) (2.0.2)\n",
            "Requirement already satisfied: protobuf>=4.25.1 in /usr/local/lib/python3.11/dist-packages (from onnx) (5.29.5)\n",
            "Requirement already satisfied: typing_extensions>=4.7.1 in /usr/local/lib/python3.11/dist-packages (from onnx) (4.14.0)\n",
            "Requirement already satisfied: onnx_tf in /usr/local/lib/python3.11/dist-packages (1.10.0)\n",
            "Requirement already satisfied: onnx>=1.10.2 in /usr/local/lib/python3.11/dist-packages (from onnx_tf) (1.18.0)\n",
            "Requirement already satisfied: PyYAML in /usr/local/lib/python3.11/dist-packages (from onnx_tf) (6.0.2)\n",
            "Requirement already satisfied: tensorflow-addons in /usr/local/lib/python3.11/dist-packages (from onnx_tf) (0.23.0)\n",
            "Requirement already satisfied: numpy>=1.22 in /usr/local/lib/python3.11/dist-packages (from onnx>=1.10.2->onnx_tf) (2.0.2)\n",
            "Requirement already satisfied: protobuf>=4.25.1 in /usr/local/lib/python3.11/dist-packages (from onnx>=1.10.2->onnx_tf) (5.29.5)\n",
            "Requirement already satisfied: typing_extensions>=4.7.1 in /usr/local/lib/python3.11/dist-packages (from onnx>=1.10.2->onnx_tf) (4.14.0)\n",
            "Requirement already satisfied: packaging in /usr/local/lib/python3.11/dist-packages (from tensorflow-addons->onnx_tf) (24.2)\n",
            "Requirement already satisfied: typeguard<3.0.0,>=2.7 in /usr/local/lib/python3.11/dist-packages (from tensorflow-addons->onnx_tf) (2.13.3)\n"
          ]
        }
      ],
      "source": [
        "!pip install google-auth\n",
        "from google.colab import auth\n",
        "from google.colab import drive\n",
        "\n",
        "drive.mount('/content/drive')\n",
        "\n",
        "# !pip install torchvision\n",
        "!pip install onnx\n",
        "# !pip install tensorflow\n",
        "!pip install onnx_tf"
      ]
    },
    {
      "cell_type": "code",
      "source": [
        "import torch\n",
        "import torch.nn as nn\n",
        "import torch.onnx\n",
        "from torch.autograd import Variable\n",
        "\n",
        "# Define the PyTorch model class\n",
        "class Model(nn.Module):\n",
        "    def __init__(self, in_features=5, h1=61, h2=60, h3=40, out_features=1):\n",
        "        super(Model, self).__init__()\n",
        "        self.fc1 = nn.Linear(in_features, h1)\n",
        "        self.fc2 = nn.Linear(h1, h2)\n",
        "        self.fc3 = nn.Linear(h2, h3)\n",
        "        self.out = nn.Linear(h3, out_features)\n",
        "        self.sigmoid = nn.Sigmoid()\n",
        "\n",
        "    def forward(self, x):\n",
        "        x = self.sigmoid(self.fc1(x))\n",
        "        x = self.sigmoid(self.fc2(x))\n",
        "        x = self.sigmoid(self.fc3(x))\n",
        "        x = self.out(x)\n",
        "        return x"
      ],
      "metadata": {
        "id": "5BHzyM2wb0NZ"
      },
      "execution_count": 21,
      "outputs": []
    },
    {
      "cell_type": "code",
      "source": [
        "# Load the saved PyTorch model\n",
        "model = Model()\n",
        "#model.load_state_dict(torch.load('/content/drive/MyDrive/komegaSST_data/airfoil_model.pt'))\n",
        "model.load_state_dict(torch.load('/content/drive/MyDrive/model_final.pth'))\n",
        "model.eval()"
      ],
      "metadata": {
        "colab": {
          "base_uri": "https://localhost:8080/"
        },
        "id": "C2hWNpmocA1P",
        "outputId": "8f5dcc49-76ff-43a0-80da-a16a003b3ee9"
      },
      "execution_count": 22,
      "outputs": [
        {
          "output_type": "execute_result",
          "data": {
            "text/plain": [
              "Model(\n",
              "  (fc1): Linear(in_features=5, out_features=61, bias=True)\n",
              "  (fc2): Linear(in_features=61, out_features=60, bias=True)\n",
              "  (fc3): Linear(in_features=60, out_features=40, bias=True)\n",
              "  (out): Linear(in_features=40, out_features=1, bias=True)\n",
              "  (sigmoid): Sigmoid()\n",
              ")"
            ]
          },
          "metadata": {},
          "execution_count": 22
        }
      ]
    },
    {
      "cell_type": "code",
      "source": [
        "# Define file paths\n",
        "onnx_file_path = \"/content/drive/MyDrive/model_final.onnx\"\n",
        "dummy_input = torch.randn(1,5)\n",
        "\n",
        "# Step 1: Export PyTorch model to ONNX format\n",
        "def export_pytorch_to_onnx(model, dummy_input, onnx_file_path):\n",
        "    torch.onnx.export(\n",
        "        model,\n",
        "        dummy_input,\n",
        "        onnx_file_path,\n",
        "        export_params=True,\n",
        "        opset_version=11,\n",
        "        do_constant_folding=True,\n",
        "        input_names=['input'],\n",
        "        output_names=['output']\n",
        "    )"
      ],
      "metadata": {
        "id": "Edq-s_-dcYvT"
      },
      "execution_count": 23,
      "outputs": []
    },
    {
      "cell_type": "code",
      "source": [
        "# Perform the conversion\n",
        "export_pytorch_to_onnx(model, dummy_input, onnx_file_path)\n"
      ],
      "metadata": {
        "id": "Ydp9Yna5chaq"
      },
      "execution_count": 24,
      "outputs": []
    },
    {
      "cell_type": "code",
      "source": [
        "!pip install onnx2pytorch\n",
        "import onnx\n",
        "from onnx2pytorch import ConvertModel\n",
        "import torch\n",
        "\n",
        "# Load the ONNX model\n",
        "onnx_model = onnx.load(onnx_file_path)\n",
        "\n",
        "# Convert the ONNX model to a PyTorch model\n",
        "pytorch_converted_model = ConvertModel(onnx_model)\n",
        "\n",
        "# Save the converted PyTorch model state dictionary for later use if needed\n",
        "torch.save(pytorch_converted_model.state_dict(), '/content/drive/MyDrive/converted_model_final.pth')"
      ],
      "metadata": {
        "colab": {
          "base_uri": "https://localhost:8080/"
        },
        "id": "NNCVyLNtcnI5",
        "outputId": "a8331e41-b149-49ab-905d-08cedd5a2d59"
      },
      "execution_count": 25,
      "outputs": [
        {
          "output_type": "stream",
          "name": "stdout",
          "text": [
            "Requirement already satisfied: onnx2pytorch in /usr/local/lib/python3.11/dist-packages (0.5.1)\n",
            "Requirement already satisfied: torch>=1.4.0 in /usr/local/lib/python3.11/dist-packages (from onnx2pytorch) (2.6.0+cu124)\n",
            "Requirement already satisfied: onnx>=1.6.0 in /usr/local/lib/python3.11/dist-packages (from onnx2pytorch) (1.18.0)\n",
            "Requirement already satisfied: torchvision>=0.9.0 in /usr/local/lib/python3.11/dist-packages (from onnx2pytorch) (0.21.0+cu124)\n",
            "Requirement already satisfied: numpy>=1.22 in /usr/local/lib/python3.11/dist-packages (from onnx>=1.6.0->onnx2pytorch) (2.0.2)\n",
            "Requirement already satisfied: protobuf>=4.25.1 in /usr/local/lib/python3.11/dist-packages (from onnx>=1.6.0->onnx2pytorch) (5.29.5)\n",
            "Requirement already satisfied: typing_extensions>=4.7.1 in /usr/local/lib/python3.11/dist-packages (from onnx>=1.6.0->onnx2pytorch) (4.14.0)\n",
            "Requirement already satisfied: filelock in /usr/local/lib/python3.11/dist-packages (from torch>=1.4.0->onnx2pytorch) (3.18.0)\n",
            "Requirement already satisfied: networkx in /usr/local/lib/python3.11/dist-packages (from torch>=1.4.0->onnx2pytorch) (3.5)\n",
            "Requirement already satisfied: jinja2 in /usr/local/lib/python3.11/dist-packages (from torch>=1.4.0->onnx2pytorch) (3.1.6)\n",
            "Requirement already satisfied: fsspec in /usr/local/lib/python3.11/dist-packages (from torch>=1.4.0->onnx2pytorch) (2025.3.2)\n",
            "Requirement already satisfied: nvidia-cuda-nvrtc-cu12==12.4.127 in /usr/local/lib/python3.11/dist-packages (from torch>=1.4.0->onnx2pytorch) (12.4.127)\n",
            "Requirement already satisfied: nvidia-cuda-runtime-cu12==12.4.127 in /usr/local/lib/python3.11/dist-packages (from torch>=1.4.0->onnx2pytorch) (12.4.127)\n",
            "Requirement already satisfied: nvidia-cuda-cupti-cu12==12.4.127 in /usr/local/lib/python3.11/dist-packages (from torch>=1.4.0->onnx2pytorch) (12.4.127)\n",
            "Requirement already satisfied: nvidia-cudnn-cu12==9.1.0.70 in /usr/local/lib/python3.11/dist-packages (from torch>=1.4.0->onnx2pytorch) (9.1.0.70)\n",
            "Requirement already satisfied: nvidia-cublas-cu12==12.4.5.8 in /usr/local/lib/python3.11/dist-packages (from torch>=1.4.0->onnx2pytorch) (12.4.5.8)\n",
            "Requirement already satisfied: nvidia-cufft-cu12==11.2.1.3 in /usr/local/lib/python3.11/dist-packages (from torch>=1.4.0->onnx2pytorch) (11.2.1.3)\n",
            "Requirement already satisfied: nvidia-curand-cu12==10.3.5.147 in /usr/local/lib/python3.11/dist-packages (from torch>=1.4.0->onnx2pytorch) (10.3.5.147)\n",
            "Requirement already satisfied: nvidia-cusolver-cu12==11.6.1.9 in /usr/local/lib/python3.11/dist-packages (from torch>=1.4.0->onnx2pytorch) (11.6.1.9)\n",
            "Requirement already satisfied: nvidia-cusparse-cu12==12.3.1.170 in /usr/local/lib/python3.11/dist-packages (from torch>=1.4.0->onnx2pytorch) (12.3.1.170)\n",
            "Requirement already satisfied: nvidia-cusparselt-cu12==0.6.2 in /usr/local/lib/python3.11/dist-packages (from torch>=1.4.0->onnx2pytorch) (0.6.2)\n",
            "Requirement already satisfied: nvidia-nccl-cu12==2.21.5 in /usr/local/lib/python3.11/dist-packages (from torch>=1.4.0->onnx2pytorch) (2.21.5)\n",
            "Requirement already satisfied: nvidia-nvtx-cu12==12.4.127 in /usr/local/lib/python3.11/dist-packages (from torch>=1.4.0->onnx2pytorch) (12.4.127)\n",
            "Requirement already satisfied: nvidia-nvjitlink-cu12==12.4.127 in /usr/local/lib/python3.11/dist-packages (from torch>=1.4.0->onnx2pytorch) (12.4.127)\n",
            "Requirement already satisfied: triton==3.2.0 in /usr/local/lib/python3.11/dist-packages (from torch>=1.4.0->onnx2pytorch) (3.2.0)\n",
            "Requirement already satisfied: sympy==1.13.1 in /usr/local/lib/python3.11/dist-packages (from torch>=1.4.0->onnx2pytorch) (1.13.1)\n",
            "Requirement already satisfied: mpmath<1.4,>=1.1.0 in /usr/local/lib/python3.11/dist-packages (from sympy==1.13.1->torch>=1.4.0->onnx2pytorch) (1.3.0)\n",
            "Requirement already satisfied: pillow!=8.3.*,>=5.3.0 in /usr/local/lib/python3.11/dist-packages (from torchvision>=0.9.0->onnx2pytorch) (11.2.1)\n",
            "Requirement already satisfied: MarkupSafe>=2.0 in /usr/local/lib/python3.11/dist-packages (from jinja2->torch>=1.4.0->onnx2pytorch) (3.0.2)\n"
          ]
        }
      ]
    },
    {
      "cell_type": "code",
      "source": [
        "# Load the original PyTorch model and converted model for comparison\n",
        "original_model = Model()\n",
        "original_model.load_state_dict(torch.load('/content/drive/MyDrive/model_final.pth'))\n",
        "original_model.eval()\n",
        "\n",
        "converted_model = ConvertModel(onnx_model)\n",
        "converted_model.load_state_dict(torch.load('/content/drive/MyDrive/converted_model_final.pth'))\n",
        "converted_model.eval()\n",
        "\n",
        "# Compare the weights\n",
        "for (original_param, converted_param) in zip(original_model.parameters(), converted_model.parameters()):\n",
        "    assert torch.allclose(original_param, converted_param, atol=1e-6), \"The weights are different!\"\n",
        "print(\"All weights are correctly transferred.\")"
      ],
      "metadata": {
        "colab": {
          "base_uri": "https://localhost:8080/"
        },
        "id": "dAGpUiNdczrC",
        "outputId": "1302266c-d2bd-4184-b632-81cc13bafa13"
      },
      "execution_count": 26,
      "outputs": [
        {
          "output_type": "stream",
          "name": "stdout",
          "text": [
            "All weights are correctly transferred.\n"
          ]
        }
      ]
    },
    {
      "cell_type": "code",
      "source": [
        "import numpy as np\n",
        "\n",
        "# Generate a sample input tensor\n",
        "input_data = np.random.randn(1, 5).astype(np.float32)\n",
        "pytorch_input = torch.from_numpy(input_data)\n",
        "\n",
        "# Get the original PyTorch model output\n",
        "with torch.no_grad():\n",
        "    original_output = original_model(pytorch_input).numpy()\n",
        "\n",
        "# Get the converted PyTorch model output\n",
        "with torch.no_grad():\n",
        "    converted_output = converted_model(pytorch_input).numpy()\n",
        "\n",
        "# Compare the outputs\n",
        "print(\"Original PyTorch Model Output:\", original_output)\n",
        "print(\"Converted PyTorch Model Output:\", converted_output)\n",
        "\n",
        "# Check if the outputs are close\n",
        "if np.allclose(original_output, converted_output, atol=1e-12):\n",
        "    print(\"The outputs are the same within the tolerance level.\")\n",
        "else:\n",
        "    print(\"The outputs are different.\")"
      ],
      "metadata": {
        "colab": {
          "base_uri": "https://localhost:8080/"
        },
        "id": "-fgYE6HheYXc",
        "outputId": "c7265a2f-9534-4578-f0ea-9fa74d4bc824"
      },
      "execution_count": 27,
      "outputs": [
        {
          "output_type": "stream",
          "name": "stdout",
          "text": [
            "Original PyTorch Model Output: [[0.9995788]]\n",
            "Converted PyTorch Model Output: [[0.9995788]]\n",
            "The outputs are the same within the tolerance level.\n"
          ]
        }
      ]
    },
    {
      "cell_type": "code",
      "source": [
        "import tensorflow as tf\n",
        "\n",
        "# Define the TensorFlow model class\n",
        "class KerasModel(tf.keras.Model):\n",
        "    def __init__(self):\n",
        "        super(KerasModel, self).__init__()\n",
        "        self.fc1 = tf.keras.layers.Dense(61, activation='sigmoid')\n",
        "        self.fc2 = tf.keras.layers.Dense(60, activation='sigmoid')\n",
        "        self.fc3 = tf.keras.layers.Dense(40, activation='sigmoid')\n",
        "        self.out = tf.keras.layers.Dense(1)\n",
        "\n",
        "    def call(self, x):\n",
        "        x = self.fc1(x)\n",
        "        x = self.fc2(x)\n",
        "        x = self.fc3(x)\n",
        "        x = self.out(x)\n",
        "        return x\n",
        "\n",
        "# Create an instance of the Keras model\n",
        "keras_model = KerasModel()\n",
        "\n",
        "# Trigger weight initialization with dummy input\n",
        "dummy_input = tf.random.uniform((1, 5))  # batch size 1, input features = 5\n",
        "_ = keras_model(dummy_input)\n",
        "\n",
        "# Print layer names and weight shapes\n",
        "for layer in keras_model.layers:\n",
        "    print(f\"{layer.name} - weights: {[w.shape for w in layer.get_weights()]}\")"
      ],
      "metadata": {
        "colab": {
          "base_uri": "https://localhost:8080/"
        },
        "id": "GLdHIZ9KedZD",
        "outputId": "202ad5b8-6247-401c-84a5-377113a3e273"
      },
      "execution_count": 28,
      "outputs": [
        {
          "output_type": "stream",
          "name": "stdout",
          "text": [
            "dense_4 - weights: [(5, 61), (61,)]\n",
            "dense_5 - weights: [(61, 60), (60,)]\n",
            "dense_6 - weights: [(60, 40), (40,)]\n",
            "dense_7 - weights: [(40, 1), (1,)]\n"
          ]
        }
      ]
    },
    {
      "cell_type": "code",
      "source": [
        "for layer in keras_model.layers:\n",
        "    print(f\"{layer.name} - weights: {[w.shape for w in layer.get_weights()]}\")\n"
      ],
      "metadata": {
        "colab": {
          "base_uri": "https://localhost:8080/"
        },
        "id": "UMp9sdF3ehpl",
        "outputId": "7e8c6a21-ed14-4b58-cb4f-db2f9af47c34"
      },
      "execution_count": 29,
      "outputs": [
        {
          "output_type": "stream",
          "name": "stdout",
          "text": [
            "dense_4 - weights: [(5, 61), (61,)]\n",
            "dense_5 - weights: [(61, 60), (60,)]\n",
            "dense_6 - weights: [(60, 40), (40,)]\n",
            "dense_7 - weights: [(40, 1), (1,)]\n"
          ]
        }
      ]
    },
    {
      "cell_type": "code",
      "source": [
        "import onnx\n",
        "\n",
        "# Load ONNX model\n",
        "onnx_model = onnx.load(onnx_file_path)\n",
        "\n",
        "# Extract weights and biases from ONNX model\n",
        "weights = {}\n",
        "for initializer in onnx_model.graph.initializer:\n",
        "    weights[initializer.name] = onnx.numpy_helper.to_array(initializer)"
      ],
      "metadata": {
        "id": "KqSlyOhQexlx"
      },
      "execution_count": 30,
      "outputs": []
    },
    {
      "cell_type": "code",
      "source": [
        "# Assign the weights and biases to the TensorFlow model\n",
        "keras_model.fc1.set_weights([weights['fc1.weight'].T, weights['fc1.bias']])\n",
        "keras_model.fc2.set_weights([weights['fc2.weight'].T, weights['fc2.bias']])\n",
        "keras_model.fc3.set_weights([weights['fc3.weight'].T, weights['fc3.bias']])\n",
        "keras_model.out.set_weights([weights['out.weight'].T, weights['out.bias']])\n",
        "\n",
        "# Perform a forward pass with dummy data to ensure initialization\n",
        "dummy_input = tf.random.normal([1, 5])\n",
        "keras_model(dummy_input)\n",
        "\n",
        "# Save to TensorFlow SavedModel format (.pb + variables/)\n",
        "final_tf_export_path = '/content/drive/MyDrive/tf_model_final'\n",
        "tf.saved_model.save(keras_model, '/content/drive/MyDrive/tf_model_final')"
      ],
      "metadata": {
        "id": "IJqRNKTWe2d3"
      },
      "execution_count": 31,
      "outputs": []
    },
    {
      "cell_type": "code",
      "source": [
        "import numpy as np\n",
        "import torch\n",
        "import tensorflow as tf\n",
        "\n",
        "# Sample input tensor\n",
        "input_data = np.random.randn(1, 5).astype(np.float32)\n",
        "\n",
        "# Convert numpy array to PyTorch tensor\n",
        "pytorch_input = torch.from_numpy(input_data)\n",
        "\n",
        "# Get PyTorch model output\n",
        "with torch.no_grad():\n",
        "    pytorch_output = model(pytorch_input).numpy()\n",
        "\n",
        "# Load the TensorFlow SavedModel\n",
        "final_tf_export_path = \"/content/drive/MyDrive/tf_model_final\"\n",
        "tf_model = tf.saved_model.load(final_tf_export_path)\n",
        "\n",
        "# Use the 'serving_default' signature for inference\n",
        "infer = tf_model.signatures[\"serving_default\"]\n",
        "\n",
        "# Prepare input for TensorFlow (as a TensorFlow tensor)\n",
        "tf_input = tf.convert_to_tensor(input_data)\n",
        "\n",
        "# Run inference\n",
        "tf_output_dict = infer(tf_input)\n",
        "tf_output = list(tf_output_dict.values())[0].numpy()  # Extract the output tensor\n",
        "\n",
        "# Compare outputs\n",
        "print(\"PyTorch Model Output:\", pytorch_output)\n",
        "print(\"TensorFlow Model Output:\", tf_output)\n",
        "\n",
        "if np.allclose(pytorch_output, tf_output, atol=1e-6):\n",
        "    print(\"✅ The outputs are the same within the tolerance level.\")\n",
        "else:\n",
        "    print(\"❌ The outputs are different.\")\n"
      ],
      "metadata": {
        "colab": {
          "base_uri": "https://localhost:8080/"
        },
        "id": "VHEZLXvdfAer",
        "outputId": "05bf0dc4-e073-42c1-c950-8bf7ff6d24b5"
      },
      "execution_count": 32,
      "outputs": [
        {
          "output_type": "stream",
          "name": "stdout",
          "text": [
            "PyTorch Model Output: [[1.0356548]]\n",
            "TensorFlow Model Output: [[1.0356547]]\n",
            "✅ The outputs are the same within the tolerance level.\n"
          ]
        }
      ]
    },
    {
      "cell_type": "code",
      "source": [],
      "metadata": {
        "id": "Qa12itv0fFPn"
      },
      "execution_count": 32,
      "outputs": []
    }
  ]
}