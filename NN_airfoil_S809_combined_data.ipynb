{
  "nbformat": 4,
  "nbformat_minor": 0,
  "metadata": {
    "colab": {
      "provenance": [],
      "authorship_tag": "ABX9TyMAUrLBoc9zE3P0fDXFQeDV",
      "include_colab_link": true
    },
    "kernelspec": {
      "name": "python3",
      "display_name": "Python 3"
    },
    "language_info": {
      "name": "python"
    }
  },
  "cells": [
    {
      "cell_type": "markdown",
      "metadata": {
        "id": "view-in-github",
        "colab_type": "text"
      },
      "source": [
        "<a href=\"https://colab.research.google.com/github/sudeepmenon17/PytorchforNN/blob/main/NN_airfoil_S809_combined_data.ipynb\" target=\"_parent\"><img src=\"https://colab.research.google.com/assets/colab-badge.svg\" alt=\"Open In Colab\"/></a>"
      ]
    },
    {
      "cell_type": "code",
      "execution_count": 183,
      "metadata": {
        "colab": {
          "base_uri": "https://localhost:8080/"
        },
        "id": "egnPe_ENDHnb",
        "outputId": "af81cee4-8b35-4e7c-e10d-acd678b7ee86"
      },
      "outputs": [
        {
          "output_type": "stream",
          "name": "stdout",
          "text": [
            "Requirement already satisfied: google-auth in /usr/local/lib/python3.10/dist-packages (2.27.0)\n",
            "Requirement already satisfied: cachetools<6.0,>=2.0.0 in /usr/local/lib/python3.10/dist-packages (from google-auth) (5.3.3)\n",
            "Requirement already satisfied: pyasn1-modules>=0.2.1 in /usr/local/lib/python3.10/dist-packages (from google-auth) (0.3.0)\n",
            "Requirement already satisfied: rsa<5,>=3.1.4 in /usr/local/lib/python3.10/dist-packages (from google-auth) (4.9)\n",
            "Requirement already satisfied: pyasn1<0.6.0,>=0.4.6 in /usr/local/lib/python3.10/dist-packages (from pyasn1-modules>=0.2.1->google-auth) (0.5.1)\n"
          ]
        }
      ],
      "source": [
        "!pip install google-auth"
      ]
    },
    {
      "cell_type": "code",
      "source": [
        "from google.colab import auth\n",
        "from google.colab import drive"
      ],
      "metadata": {
        "id": "nDPtALE_DgV3"
      },
      "execution_count": 184,
      "outputs": []
    },
    {
      "cell_type": "code",
      "source": [
        "drive.mount('/content/drive')"
      ],
      "metadata": {
        "colab": {
          "base_uri": "https://localhost:8080/"
        },
        "id": "iV5oFhCFDlB7",
        "outputId": "6ad40bb8-d65b-464b-c4f8-73bf20101bf1"
      },
      "execution_count": 185,
      "outputs": [
        {
          "output_type": "stream",
          "name": "stdout",
          "text": [
            "Drive already mounted at /content/drive; to attempt to forcibly remount, call drive.mount(\"/content/drive\", force_remount=True).\n"
          ]
        }
      ]
    },
    {
      "cell_type": "code",
      "source": [
        "!ls /content/drive/MyDrive/Data_from_Karim/AirfoilS809/"
      ],
      "metadata": {
        "colab": {
          "base_uri": "https://localhost:8080/"
        },
        "id": "ZE73pjy7DvjL",
        "outputId": "d8e15af9-0f75-4f56-b960-e08826b8f193"
      },
      "execution_count": 186,
      "outputs": [
        {
          "output_type": "stream",
          "name": "stdout",
          "text": [
            "data_set1.csv  data_set2.csv  data_set3.csv  data_set4.csv  neuralNetwork_reg.py  ReadMe.docx\n"
          ]
        }
      ]
    },
    {
      "cell_type": "code",
      "source": [
        "import numpy as np\n",
        "import pandas as pd\n",
        "import torch\n",
        "import torch.nn as nn\n",
        "import torch.nn.functional as F\n",
        "import matplotlib.pyplot as plt\n",
        "%matplotlib inline"
      ],
      "metadata": {
        "id": "5oKNOobpD2Ig"
      },
      "execution_count": 187,
      "outputs": []
    },
    {
      "cell_type": "code",
      "source": [
        "# Create a Model class\n",
        "class Model(nn.Module):\n",
        "  def __init__(self,in_features=5,h1 = 61, h2 = 61, out_features=1):\n",
        "    super().__init__()\n",
        "    self.fc1 = nn.Linear(in_features,h1)\n",
        "    self.fc2 = nn.Linear(h1,h2)\n",
        "    self.out = nn.Linear(h2,out_features)\n",
        "\n",
        "  def forward(self,x):\n",
        "    x = F.sigmoid(self.fc1(x))\n",
        "    x = F.sigmoid(self.fc2(x))\n",
        "    x = self.out(x)\n",
        "\n",
        "    return x"
      ],
      "metadata": {
        "id": "wLvV7D1CEbys"
      },
      "execution_count": 188,
      "outputs": []
    },
    {
      "cell_type": "code",
      "source": [
        "# torch.manual_seed(42)\n",
        "\n",
        "model = Model()"
      ],
      "metadata": {
        "id": "H9Za1dlOFHZL"
      },
      "execution_count": 189,
      "outputs": []
    },
    {
      "cell_type": "code",
      "source": [
        "# Read the data set - data_set3.csv --> Airfoil S809, Re = 2e6, alpha = 14.2 deg\n",
        "df1 = pd.read_csv(\"/content/drive/MyDrive/Data_from_Karim/AirfoilS809/data_set1.csv\")\n",
        "df2 = pd.read_csv(\"/content/drive/MyDrive/Data_from_Karim/AirfoilS809/data_set2.csv\")\n",
        "df3 = pd.read_csv(\"/content/drive/MyDrive/Data_from_Karim/AirfoilS809/data_set3.csv\")\n",
        "df4 = pd.read_csv(\"/content/drive/MyDrive/Data_from_Karim/AirfoilS809/data_set4.csv\")"
      ],
      "metadata": {
        "id": "CYhk7b4bFIYY"
      },
      "execution_count": 190,
      "outputs": []
    },
    {
      "cell_type": "code",
      "source": [
        "\n"
      ],
      "metadata": {
        "id": "ah5YibDYGd20"
      },
      "execution_count": 190,
      "outputs": []
    },
    {
      "cell_type": "code",
      "source": [
        "# Combine data\n",
        "frames = [df1, df2, df3, df4]\n",
        "ff = []\n",
        "\n",
        "for item in frames:\n",
        "  xc = np.array(item['x'])\n",
        "  yc = np.array(item['y'])\n",
        "  b = np.array(item['beta'])\n",
        "  b1 = []\n",
        "\n",
        "\n",
        "  # Normalize x and y coordinates\n",
        "  min_range = -5.0\n",
        "  max_range = 5.0\n",
        "  xc = (xc - np.min(xc)) * (max_range - min_range) / (np.max(xc) - np.min(xc))\n",
        "  yc = (yc - np.min(yc)) * (max_range - min_range) / (np.max(yc) - np.min(yc))\n",
        "\n",
        "\n",
        "  #####################################################################\n",
        "  # Cleaning the beta field in the wake region\n",
        "  for k in range(len(xc)):\n",
        "    if xc[k] >= 5.2 and xc[k] <= 5.3:\n",
        "      if yc[k] >= 4.94 and yc[k] <= 4.96:\n",
        "        b1.append(b[k])\n",
        "\n",
        "  for j in range(len(xc)):\n",
        "    if xc[j] > 5.15 or yc[j]>5.04:\n",
        "      b[j] = np.mean(b1)\n",
        "\n",
        "  modified_data = {\n",
        "    'x': np.array(xc),\n",
        "    'y': np.array(yc),\n",
        "    'beta': np.array(b),\n",
        "    'feature1': np.array(item['feature1']),\n",
        "    'feature2': np.array(item['feature2']),\n",
        "    'feature3': np.array(item['feature3']),\n",
        "    'feature4': np.array(item['feature4']),\n",
        "    'feature5': np.array(item['feature5'])\n",
        "  }\n",
        "\n",
        "  item = pd.DataFrame(modified_data)\n",
        "\n",
        "  ff.append(item)\n",
        "\n",
        "  # #####################################################################\n",
        "  nx = []\n",
        "  ny = []\n",
        "  nb = []\n",
        "\n",
        "\n",
        "  # # Filter data for the specified range of coordinates\n",
        "  # for i in range(len(xc)):\n",
        "  #   if xc[i]>=4.9 and xc[i]<=5.3:\n",
        "  #     if yc[i]>=4.925 and yc[i]<=5.075:\n",
        "  #       nx.append(xc[i])\n",
        "  #       ny.append(yc[i])\n",
        "  #       nb.append(b[i])\n",
        "\n",
        "  # # Create a scatter plot\n",
        "  # plt.scatter(nx, ny, c=nb,  cmap= 'RdYlGn',alpha=1, marker='.',s=250)\n",
        "  # plt.colorbar(label='Beta Field')\n",
        "  # plt.xlabel('X Coordinate')\n",
        "  # plt.ylabel('Y Coordinate')\n",
        "  # plt.title('2D Map with Scatter Plot')\n",
        "  # plt.show()\n",
        "\n",
        "\n",
        "df = pd.concat(ff)\n",
        "\n",
        "# Data for beta>1.02 or beta<0.98\n",
        "df_filtered = df[(df['beta'] > 1.01) | (df['beta'] < 0.99)]\n",
        "\n",
        "df_filtered\n",
        "\n",
        "df"
      ],
      "metadata": {
        "colab": {
          "base_uri": "https://localhost:8080/",
          "height": 477
        },
        "id": "BoqIP5_48LBw",
        "outputId": "edae53cf-50b8-41d8-c883-894e00dd0802"
      },
      "execution_count": 211,
      "outputs": [
        {
          "output_type": "error",
          "ename": "KeyError",
          "evalue": "'x'",
          "traceback": [
            "\u001b[0;31m---------------------------------------------------------------------------\u001b[0m",
            "\u001b[0;31mKeyError\u001b[0m                                  Traceback (most recent call last)",
            "\u001b[0;32m/usr/local/lib/python3.10/dist-packages/pandas/core/indexes/base.py\u001b[0m in \u001b[0;36mget_loc\u001b[0;34m(self, key, method, tolerance)\u001b[0m\n\u001b[1;32m   3801\u001b[0m             \u001b[0;32mtry\u001b[0m\u001b[0;34m:\u001b[0m\u001b[0;34m\u001b[0m\u001b[0;34m\u001b[0m\u001b[0m\n\u001b[0;32m-> 3802\u001b[0;31m                 \u001b[0;32mreturn\u001b[0m \u001b[0mself\u001b[0m\u001b[0;34m.\u001b[0m\u001b[0m_engine\u001b[0m\u001b[0;34m.\u001b[0m\u001b[0mget_loc\u001b[0m\u001b[0;34m(\u001b[0m\u001b[0mcasted_key\u001b[0m\u001b[0;34m)\u001b[0m\u001b[0;34m\u001b[0m\u001b[0;34m\u001b[0m\u001b[0m\n\u001b[0m\u001b[1;32m   3803\u001b[0m             \u001b[0;32mexcept\u001b[0m \u001b[0mKeyError\u001b[0m \u001b[0;32mas\u001b[0m \u001b[0merr\u001b[0m\u001b[0;34m:\u001b[0m\u001b[0;34m\u001b[0m\u001b[0;34m\u001b[0m\u001b[0m\n",
            "\u001b[0;32m/usr/local/lib/python3.10/dist-packages/pandas/_libs/index.pyx\u001b[0m in \u001b[0;36mpandas._libs.index.IndexEngine.get_loc\u001b[0;34m()\u001b[0m\n",
            "\u001b[0;32m/usr/local/lib/python3.10/dist-packages/pandas/_libs/index.pyx\u001b[0m in \u001b[0;36mpandas._libs.index.IndexEngine.get_loc\u001b[0;34m()\u001b[0m\n",
            "\u001b[0;32mpandas/_libs/hashtable_class_helper.pxi\u001b[0m in \u001b[0;36mpandas._libs.hashtable.PyObjectHashTable.get_item\u001b[0;34m()\u001b[0m\n",
            "\u001b[0;32mpandas/_libs/hashtable_class_helper.pxi\u001b[0m in \u001b[0;36mpandas._libs.hashtable.PyObjectHashTable.get_item\u001b[0;34m()\u001b[0m\n",
            "\u001b[0;31mKeyError\u001b[0m: 'x'",
            "\nThe above exception was the direct cause of the following exception:\n",
            "\u001b[0;31mKeyError\u001b[0m                                  Traceback (most recent call last)",
            "\u001b[0;32m<ipython-input-211-7250fd01de41>\u001b[0m in \u001b[0;36m<cell line: 5>\u001b[0;34m()\u001b[0m\n\u001b[1;32m      4\u001b[0m \u001b[0;34m\u001b[0m\u001b[0m\n\u001b[1;32m      5\u001b[0m \u001b[0;32mfor\u001b[0m \u001b[0mitem\u001b[0m \u001b[0;32min\u001b[0m \u001b[0mframes\u001b[0m\u001b[0;34m:\u001b[0m\u001b[0;34m\u001b[0m\u001b[0;34m\u001b[0m\u001b[0m\n\u001b[0;32m----> 6\u001b[0;31m   \u001b[0mxc\u001b[0m \u001b[0;34m=\u001b[0m \u001b[0mnp\u001b[0m\u001b[0;34m.\u001b[0m\u001b[0marray\u001b[0m\u001b[0;34m(\u001b[0m\u001b[0mitem\u001b[0m\u001b[0;34m[\u001b[0m\u001b[0;34m'x'\u001b[0m\u001b[0;34m]\u001b[0m\u001b[0;34m)\u001b[0m\u001b[0;34m\u001b[0m\u001b[0;34m\u001b[0m\u001b[0m\n\u001b[0m\u001b[1;32m      7\u001b[0m   \u001b[0myc\u001b[0m \u001b[0;34m=\u001b[0m \u001b[0mnp\u001b[0m\u001b[0;34m.\u001b[0m\u001b[0marray\u001b[0m\u001b[0;34m(\u001b[0m\u001b[0mitem\u001b[0m\u001b[0;34m[\u001b[0m\u001b[0;34m'y'\u001b[0m\u001b[0;34m]\u001b[0m\u001b[0;34m)\u001b[0m\u001b[0;34m\u001b[0m\u001b[0;34m\u001b[0m\u001b[0m\n\u001b[1;32m      8\u001b[0m   \u001b[0mb\u001b[0m \u001b[0;34m=\u001b[0m \u001b[0mnp\u001b[0m\u001b[0;34m.\u001b[0m\u001b[0marray\u001b[0m\u001b[0;34m(\u001b[0m\u001b[0mitem\u001b[0m\u001b[0;34m[\u001b[0m\u001b[0;34m'beta'\u001b[0m\u001b[0;34m]\u001b[0m\u001b[0;34m)\u001b[0m\u001b[0;34m\u001b[0m\u001b[0;34m\u001b[0m\u001b[0m\n",
            "\u001b[0;32m/usr/local/lib/python3.10/dist-packages/pandas/core/frame.py\u001b[0m in \u001b[0;36m__getitem__\u001b[0;34m(self, key)\u001b[0m\n\u001b[1;32m   3805\u001b[0m             \u001b[0;32mif\u001b[0m \u001b[0mself\u001b[0m\u001b[0;34m.\u001b[0m\u001b[0mcolumns\u001b[0m\u001b[0;34m.\u001b[0m\u001b[0mnlevels\u001b[0m \u001b[0;34m>\u001b[0m \u001b[0;36m1\u001b[0m\u001b[0;34m:\u001b[0m\u001b[0;34m\u001b[0m\u001b[0;34m\u001b[0m\u001b[0m\n\u001b[1;32m   3806\u001b[0m                 \u001b[0;32mreturn\u001b[0m \u001b[0mself\u001b[0m\u001b[0;34m.\u001b[0m\u001b[0m_getitem_multilevel\u001b[0m\u001b[0;34m(\u001b[0m\u001b[0mkey\u001b[0m\u001b[0;34m)\u001b[0m\u001b[0;34m\u001b[0m\u001b[0;34m\u001b[0m\u001b[0m\n\u001b[0;32m-> 3807\u001b[0;31m             \u001b[0mindexer\u001b[0m \u001b[0;34m=\u001b[0m \u001b[0mself\u001b[0m\u001b[0;34m.\u001b[0m\u001b[0mcolumns\u001b[0m\u001b[0;34m.\u001b[0m\u001b[0mget_loc\u001b[0m\u001b[0;34m(\u001b[0m\u001b[0mkey\u001b[0m\u001b[0;34m)\u001b[0m\u001b[0;34m\u001b[0m\u001b[0;34m\u001b[0m\u001b[0m\n\u001b[0m\u001b[1;32m   3808\u001b[0m             \u001b[0;32mif\u001b[0m \u001b[0mis_integer\u001b[0m\u001b[0;34m(\u001b[0m\u001b[0mindexer\u001b[0m\u001b[0;34m)\u001b[0m\u001b[0;34m:\u001b[0m\u001b[0;34m\u001b[0m\u001b[0;34m\u001b[0m\u001b[0m\n\u001b[1;32m   3809\u001b[0m                 \u001b[0mindexer\u001b[0m \u001b[0;34m=\u001b[0m \u001b[0;34m[\u001b[0m\u001b[0mindexer\u001b[0m\u001b[0;34m]\u001b[0m\u001b[0;34m\u001b[0m\u001b[0;34m\u001b[0m\u001b[0m\n",
            "\u001b[0;32m/usr/local/lib/python3.10/dist-packages/pandas/core/indexes/base.py\u001b[0m in \u001b[0;36mget_loc\u001b[0;34m(self, key, method, tolerance)\u001b[0m\n\u001b[1;32m   3802\u001b[0m                 \u001b[0;32mreturn\u001b[0m \u001b[0mself\u001b[0m\u001b[0;34m.\u001b[0m\u001b[0m_engine\u001b[0m\u001b[0;34m.\u001b[0m\u001b[0mget_loc\u001b[0m\u001b[0;34m(\u001b[0m\u001b[0mcasted_key\u001b[0m\u001b[0;34m)\u001b[0m\u001b[0;34m\u001b[0m\u001b[0;34m\u001b[0m\u001b[0m\n\u001b[1;32m   3803\u001b[0m             \u001b[0;32mexcept\u001b[0m \u001b[0mKeyError\u001b[0m \u001b[0;32mas\u001b[0m \u001b[0merr\u001b[0m\u001b[0;34m:\u001b[0m\u001b[0;34m\u001b[0m\u001b[0;34m\u001b[0m\u001b[0m\n\u001b[0;32m-> 3804\u001b[0;31m                 \u001b[0;32mraise\u001b[0m \u001b[0mKeyError\u001b[0m\u001b[0;34m(\u001b[0m\u001b[0mkey\u001b[0m\u001b[0;34m)\u001b[0m \u001b[0;32mfrom\u001b[0m \u001b[0merr\u001b[0m\u001b[0;34m\u001b[0m\u001b[0;34m\u001b[0m\u001b[0m\n\u001b[0m\u001b[1;32m   3805\u001b[0m             \u001b[0;32mexcept\u001b[0m \u001b[0mTypeError\u001b[0m\u001b[0;34m:\u001b[0m\u001b[0;34m\u001b[0m\u001b[0;34m\u001b[0m\u001b[0m\n\u001b[1;32m   3806\u001b[0m                 \u001b[0;31m# If we have a listlike key, _check_indexing_error will raise\u001b[0m\u001b[0;34m\u001b[0m\u001b[0;34m\u001b[0m\u001b[0m\n",
            "\u001b[0;31mKeyError\u001b[0m: 'x'"
          ]
        }
      ]
    },
    {
      "cell_type": "code",
      "source": [
        "from sklearn.preprocessing import StandardScaler\n",
        "\n",
        "# Preprocess Features\n",
        "df1 = df_filtered.drop(['x','y'],axis=1)\n",
        "\n",
        "# # Fill missing values with the mean\n",
        "# df1 = df1.fillna(df1.mean())\n",
        "\n",
        "\n",
        "# Standardization\n",
        "standard_scaler = StandardScaler()\n",
        "df1_standardized = standard_scaler.fit_transform(df1)\n",
        "\n",
        "\n",
        "# Features\n",
        "X = df1_standardized[:,1:]\n",
        "# Target\n",
        "y = df1_standardized[:,0]\n"
      ],
      "metadata": {
        "id": "ZbHUlkRKGzeP"
      },
      "execution_count": 192,
      "outputs": []
    },
    {
      "cell_type": "code",
      "source": [
        "criterion = nn.MSELoss()\n",
        "optimizer = torch.optim.Adam(model.parameters(),lr = 0.01)"
      ],
      "metadata": {
        "id": "shmtBmNAK1F9"
      },
      "execution_count": 193,
      "outputs": []
    },
    {
      "cell_type": "code",
      "source": [
        "#5-Fold Cross Validation\n",
        "from sklearn import metrics\n",
        "\n",
        "from sklearn.model_selection import KFold\n",
        "kFold=KFold(n_splits=5,shuffle=False)\n",
        "\n",
        "# Initialize a list to store the evaluation scores\n",
        "scores = []\n",
        "training_cost = []\n",
        "testing_cost =[]\n",
        "iterations = 100\n",
        "train_fold = [[] for i in range(5)]\n",
        "test_fold = [[] for i in range(5)]\n",
        "c = 0\n",
        "for train_index,test_index in kFold.split(X):\n",
        "  print(\"Train Index: \", train_index, \"\\n\")\n",
        "  print(\"Test Index: \", test_index)\n",
        "  print(\"Size of training data:\", len(train_index),\"\\n\")\n",
        "  print(\"Size of testing data:\", len(test_index),\"\\n\")\n",
        "\n",
        "  X_train, X_test, y_train, y_test = X[train_index], X[test_index], y[train_index], y[test_index]\n",
        "\n",
        "\n",
        "  X_train = torch.FloatTensor(X_train)\n",
        "  X_test = torch.FloatTensor(X_test)\n",
        "\n",
        "  y_train = torch.FloatTensor(y_train)\n",
        "  y_test = torch.FloatTensor(y_test)\n",
        "\n",
        "\n",
        "  losses = []\n",
        "  for i in range(iterations):\n",
        "    # go forward and predict\n",
        "    y_pred = model.forward(X_train)\n",
        "\n",
        "    # Measure the loss\n",
        "    loss = criterion(y_pred,y_train)\n",
        "\n",
        "    # Keep track of the losses\n",
        "    losses.append(loss  )\n",
        "\n",
        "    # print every 10 epoch\n",
        "    if i % 10 == 0:\n",
        "      print(f'iter: {i} and loss: {loss}')\n",
        "\n",
        "    # Backpropagation\n",
        "    optimizer.zero_grad()\n",
        "    loss.backward()\n",
        "    optimizer.step()\n",
        "  train_fold[c].append(y_pred.detach().numpy())\n",
        "  train_fold[c].append(y_train.detach().numpy())\n",
        "  training_cost.append(losses)\n",
        "\n",
        "  # Evaluate Model\n",
        "  with torch.no_grad():\n",
        "    y_eval = model.forward(X_test)\n",
        "    test_loss = criterion(y_eval,y_test)\n",
        "  test_fold[c].append(y_eval.detach().numpy())\n",
        "  test_fold[c].append(y_test.detach().numpy())\n",
        "\n",
        "  testing_cost.append(test_loss)\n",
        "  scores.append(metrics.mean_squared_error(y_eval,y_test))\n",
        "  print('MSEloss: {}'.format(testing_cost))\n",
        "  print('MSE error: {}'.format(scores))\n",
        "\n",
        "  c = c+1"
      ],
      "metadata": {
        "id": "K0cex40IL0VX",
        "outputId": "097e1e05-f0fd-4311-f4c0-c2d1605265cb",
        "colab": {
          "base_uri": "https://localhost:8080/"
        }
      },
      "execution_count": 194,
      "outputs": [
        {
          "output_type": "stream",
          "name": "stdout",
          "text": [
            "Train Index:  [ 2422  2423  2424 ... 12107 12108 12109] \n",
            "\n",
            "Test Index:  [   0    1    2 ... 2419 2420 2421]\n",
            "Size of training data: 9688 \n",
            "\n",
            "Size of testing data: 2422 \n",
            "\n"
          ]
        },
        {
          "output_type": "stream",
          "name": "stderr",
          "text": [
            "/usr/local/lib/python3.10/dist-packages/torch/nn/modules/loss.py:535: UserWarning: Using a target size (torch.Size([9688])) that is different to the input size (torch.Size([9688, 1])). This will likely lead to incorrect results due to broadcasting. Please ensure they have the same size.\n",
            "  return F.mse_loss(input, target, reduction=self.reduction)\n"
          ]
        },
        {
          "output_type": "stream",
          "name": "stdout",
          "text": [
            "iter: 0 and loss: 1.1986318826675415\n",
            "iter: 10 and loss: 1.0525411367416382\n",
            "iter: 20 and loss: 1.055937647819519\n",
            "iter: 30 and loss: 1.0515061616897583\n",
            "iter: 40 and loss: 1.0500949621200562\n",
            "iter: 50 and loss: 1.050145149230957\n",
            "iter: 60 and loss: 1.0497279167175293\n",
            "iter: 70 and loss: 1.0497260093688965\n",
            "iter: 80 and loss: 1.0497294664382935\n",
            "iter: 90 and loss: 1.0497193336486816\n"
          ]
        },
        {
          "output_type": "stream",
          "name": "stderr",
          "text": [
            "/usr/local/lib/python3.10/dist-packages/torch/nn/modules/loss.py:535: UserWarning: Using a target size (torch.Size([2422])) that is different to the input size (torch.Size([2422, 1])). This will likely lead to incorrect results due to broadcasting. Please ensure they have the same size.\n",
            "  return F.mse_loss(input, target, reduction=self.reduction)\n",
            "/usr/local/lib/python3.10/dist-packages/torch/nn/modules/loss.py:535: UserWarning: Using a target size (torch.Size([9688])) that is different to the input size (torch.Size([9688, 1])). This will likely lead to incorrect results due to broadcasting. Please ensure they have the same size.\n",
            "  return F.mse_loss(input, target, reduction=self.reduction)\n"
          ]
        },
        {
          "output_type": "stream",
          "name": "stdout",
          "text": [
            "MSEloss: [tensor(0.8016)]\n",
            "MSE error: [0.80210483]\n",
            "Train Index:  [    0     1     2 ... 12107 12108 12109] \n",
            "\n",
            "Test Index:  [2422 2423 2424 ... 4841 4842 4843]\n",
            "Size of training data: 9688 \n",
            "\n",
            "Size of testing data: 2422 \n",
            "\n",
            "iter: 0 and loss: 0.9001925587654114\n",
            "iter: 10 and loss: 0.8998655080795288\n",
            "iter: 20 and loss: 0.8997419476509094\n",
            "iter: 30 and loss: 0.8996966481208801\n",
            "iter: 40 and loss: 0.8996800780296326\n",
            "iter: 50 and loss: 0.8996748328208923\n",
            "iter: 60 and loss: 0.8996738791465759\n",
            "iter: 70 and loss: 0.899674117565155\n",
            "iter: 80 and loss: 0.8996740579605103\n",
            "iter: 90 and loss: 0.8996739387512207\n"
          ]
        },
        {
          "output_type": "stream",
          "name": "stderr",
          "text": [
            "/usr/local/lib/python3.10/dist-packages/torch/nn/modules/loss.py:535: UserWarning: Using a target size (torch.Size([2422])) that is different to the input size (torch.Size([2422, 1])). This will likely lead to incorrect results due to broadcasting. Please ensure they have the same size.\n",
            "  return F.mse_loss(input, target, reduction=self.reduction)\n",
            "/usr/local/lib/python3.10/dist-packages/torch/nn/modules/loss.py:535: UserWarning: Using a target size (torch.Size([9688])) that is different to the input size (torch.Size([9688, 1])). This will likely lead to incorrect results due to broadcasting. Please ensure they have the same size.\n",
            "  return F.mse_loss(input, target, reduction=self.reduction)\n"
          ]
        },
        {
          "output_type": "stream",
          "name": "stdout",
          "text": [
            "MSEloss: [tensor(0.8016), tensor(1.4022)]\n",
            "MSE error: [0.80210483, 1.402172]\n",
            "Train Index:  [    0     1     2 ... 12107 12108 12109] \n",
            "\n",
            "Test Index:  [4844 4845 4846 ... 7263 7264 7265]\n",
            "Size of training data: 9688 \n",
            "\n",
            "Size of testing data: 2422 \n",
            "\n",
            "iter: 0 and loss: 0.9030752182006836\n",
            "iter: 10 and loss: 0.9016157388687134\n",
            "iter: 20 and loss: 0.9017294049263\n",
            "iter: 30 and loss: 0.9016455411911011\n",
            "iter: 40 and loss: 0.9015985131263733\n",
            "iter: 50 and loss: 0.9016050696372986\n",
            "iter: 60 and loss: 0.9015965461730957\n",
            "iter: 70 and loss: 0.9015975594520569\n",
            "iter: 80 and loss: 0.9015964269638062\n",
            "iter: 90 and loss: 0.9015966057777405\n"
          ]
        },
        {
          "output_type": "stream",
          "name": "stderr",
          "text": [
            "/usr/local/lib/python3.10/dist-packages/torch/nn/modules/loss.py:535: UserWarning: Using a target size (torch.Size([2422])) that is different to the input size (torch.Size([2422, 1])). This will likely lead to incorrect results due to broadcasting. Please ensure they have the same size.\n",
            "  return F.mse_loss(input, target, reduction=self.reduction)\n",
            "/usr/local/lib/python3.10/dist-packages/torch/nn/modules/loss.py:535: UserWarning: Using a target size (torch.Size([9688])) that is different to the input size (torch.Size([9688, 1])). This will likely lead to incorrect results due to broadcasting. Please ensure they have the same size.\n",
            "  return F.mse_loss(input, target, reduction=self.reduction)\n"
          ]
        },
        {
          "output_type": "stream",
          "name": "stdout",
          "text": [
            "MSEloss: [tensor(0.8016), tensor(1.4022), tensor(1.4070)]\n",
            "MSE error: [0.80210483, 1.402172, 1.407081]\n",
            "Train Index:  [    0     1     2 ... 12107 12108 12109] \n",
            "\n",
            "Test Index:  [7266 7267 7268 ... 9685 9686 9687]\n",
            "Size of training data: 9688 \n",
            "\n",
            "Size of testing data: 2422 \n",
            "\n",
            "iter: 0 and loss: 1.0580246448516846\n",
            "iter: 10 and loss: 1.052600383758545\n",
            "iter: 20 and loss: 1.0524505376815796\n",
            "iter: 30 and loss: 1.051971673965454\n",
            "iter: 40 and loss: 1.0519920587539673\n",
            "iter: 50 and loss: 1.0519100427627563\n",
            "iter: 60 and loss: 1.0519192218780518\n",
            "iter: 70 and loss: 1.051908016204834\n",
            "iter: 80 and loss: 1.051909327507019\n",
            "iter: 90 and loss: 1.0519078969955444\n"
          ]
        },
        {
          "output_type": "stream",
          "name": "stderr",
          "text": [
            "/usr/local/lib/python3.10/dist-packages/torch/nn/modules/loss.py:535: UserWarning: Using a target size (torch.Size([2422])) that is different to the input size (torch.Size([2422, 1])). This will likely lead to incorrect results due to broadcasting. Please ensure they have the same size.\n",
            "  return F.mse_loss(input, target, reduction=self.reduction)\n",
            "/usr/local/lib/python3.10/dist-packages/torch/nn/modules/loss.py:535: UserWarning: Using a target size (torch.Size([9688])) that is different to the input size (torch.Size([9688, 1])). This will likely lead to incorrect results due to broadcasting. Please ensure they have the same size.\n",
            "  return F.mse_loss(input, target, reduction=self.reduction)\n"
          ]
        },
        {
          "output_type": "stream",
          "name": "stdout",
          "text": [
            "MSEloss: [tensor(0.8016), tensor(1.4022), tensor(1.4070), tensor(0.7960)]\n",
            "MSE error: [0.80210483, 1.402172, 1.407081, 0.7959475]\n",
            "Train Index:  [   0    1    2 ... 9685 9686 9687] \n",
            "\n",
            "Test Index:  [ 9688  9689  9690 ... 12107 12108 12109]\n",
            "Size of training data: 9688 \n",
            "\n",
            "Size of testing data: 2422 \n",
            "\n",
            "iter: 0 and loss: 1.0925710201263428\n",
            "iter: 10 and loss: 1.092557430267334\n",
            "iter: 20 and loss: 1.092556357383728\n",
            "iter: 30 and loss: 1.0925562381744385\n",
            "iter: 40 and loss: 1.0925557613372803\n",
            "iter: 50 and loss: 1.0925556421279907\n",
            "iter: 60 and loss: 1.0925556421279907\n",
            "iter: 70 and loss: 1.0925557613372803\n",
            "iter: 80 and loss: 1.0925557613372803\n",
            "iter: 90 and loss: 1.0925556421279907\n",
            "MSEloss: [tensor(0.8016), tensor(1.4022), tensor(1.4070), tensor(0.7960), tensor(0.6345)]\n",
            "MSE error: [0.80210483, 1.402172, 1.407081, 0.7959475, 0.6344748]\n"
          ]
        },
        {
          "output_type": "stream",
          "name": "stderr",
          "text": [
            "/usr/local/lib/python3.10/dist-packages/torch/nn/modules/loss.py:535: UserWarning: Using a target size (torch.Size([2422])) that is different to the input size (torch.Size([2422, 1])). This will likely lead to incorrect results due to broadcasting. Please ensure they have the same size.\n",
            "  return F.mse_loss(input, target, reduction=self.reduction)\n"
          ]
        }
      ]
    },
    {
      "cell_type": "code",
      "source": [
        "# train_fold"
      ],
      "metadata": {
        "id": "Lru88TxrkjWh"
      },
      "execution_count": 195,
      "outputs": []
    },
    {
      "cell_type": "code",
      "source": [
        "plt.plot(test_fold[3][0],test_fold[3][1],'bo',markersize = 1)\n",
        "plt.show()\n",
        "# len(test_fold[3][0]), len(test_fold[3][1])"
      ],
      "metadata": {
        "id": "D6db0kRykp3q",
        "outputId": "04de8090-ae1d-4197-e84f-87d410d9a1b2",
        "colab": {
          "base_uri": "https://localhost:8080/",
          "height": 430
        }
      },
      "execution_count": 210,
      "outputs": [
        {
          "output_type": "display_data",
          "data": {
            "text/plain": [
              "<Figure size 640x480 with 1 Axes>"
            ],
            "image/png": "[encoded data removed]"
          },
          "metadata": {}
        }
      ]
    },
    {
      "cell_type": "code",
      "source": [],
      "metadata": {
        "id": "IGArL_GUmnFf"
      },
      "execution_count": 196,
      "outputs": []
    }
  ]
}