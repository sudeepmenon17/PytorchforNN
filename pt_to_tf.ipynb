{
  "nbformat": 4,
  "nbformat_minor": 0,
  "metadata": {
    "colab": {
      "provenance": [],
      "authorship_tag": "ABX9TyOx75LGrvR8oS1UntXFm/Cp",
      "include_colab_link": true
    },
    "kernelspec": {
      "name": "python3",
      "display_name": "Python 3"
    },
    "language_info": {
      "name": "python"
    }
  },
  "cells": [
    {
      "cell_type": "markdown",
      "metadata": {
        "id": "view-in-github",
        "colab_type": "text"
      },
      "source": [
        "<a href=\"https://colab.research.google.com/github/sudeepmenon17/PytorchforNN/blob/main/pt_to_tf.ipynb\" target=\"_parent\"><img src=\"https://colab.research.google.com/assets/colab-badge.svg\" alt=\"Open In Colab\"/></a>"
      ]
    },
    {
      "cell_type": "code",
      "execution_count": 16,
      "metadata": {
        "colab": {
          "base_uri": "https://localhost:8080/"
        },
        "id": "0Lay2PcCJsUo",
        "outputId": "f26365d6-ca62-4838-9668-87dd49f774c2"
      },
      "outputs": [
        {
          "output_type": "stream",
          "name": "stdout",
          "text": [
            "Requirement already satisfied: google-auth in /usr/local/lib/python3.10/dist-packages (2.27.0)\n",
            "Requirement already satisfied: cachetools<6.0,>=2.0.0 in /usr/local/lib/python3.10/dist-packages (from google-auth) (5.4.0)\n",
            "Requirement already satisfied: pyasn1-modules>=0.2.1 in /usr/local/lib/python3.10/dist-packages (from google-auth) (0.4.0)\n",
            "Requirement already satisfied: rsa<5,>=3.1.4 in /usr/local/lib/python3.10/dist-packages (from google-auth) (4.9)\n",
            "Requirement already satisfied: pyasn1<0.7.0,>=0.4.6 in /usr/local/lib/python3.10/dist-packages (from pyasn1-modules>=0.2.1->google-auth) (0.6.0)\n",
            "Drive already mounted at /content/drive; to attempt to forcibly remount, call drive.mount(\"/content/drive\", force_remount=True).\n",
            "Requirement already satisfied: onnx in /usr/local/lib/python3.10/dist-packages (1.16.1)\n",
            "Requirement already satisfied: numpy>=1.20 in /usr/local/lib/python3.10/dist-packages (from onnx) (1.25.2)\n",
            "Requirement already satisfied: protobuf>=3.20.2 in /usr/local/lib/python3.10/dist-packages (from onnx) (3.20.3)\n",
            "Requirement already satisfied: onnx_tf in /usr/local/lib/python3.10/dist-packages (1.10.0)\n",
            "Requirement already satisfied: onnx>=1.10.2 in /usr/local/lib/python3.10/dist-packages (from onnx_tf) (1.16.1)\n",
            "Requirement already satisfied: PyYAML in /usr/local/lib/python3.10/dist-packages (from onnx_tf) (6.0.1)\n",
            "Requirement already satisfied: tensorflow-addons in /usr/local/lib/python3.10/dist-packages (from onnx_tf) (0.23.0)\n",
            "Requirement already satisfied: numpy>=1.20 in /usr/local/lib/python3.10/dist-packages (from onnx>=1.10.2->onnx_tf) (1.25.2)\n",
            "Requirement already satisfied: protobuf>=3.20.2 in /usr/local/lib/python3.10/dist-packages (from onnx>=1.10.2->onnx_tf) (3.20.3)\n",
            "Requirement already satisfied: packaging in /usr/local/lib/python3.10/dist-packages (from tensorflow-addons->onnx_tf) (24.1)\n",
            "Requirement already satisfied: typeguard<3.0.0,>=2.7 in /usr/local/lib/python3.10/dist-packages (from tensorflow-addons->onnx_tf) (2.13.3)\n"
          ]
        }
      ],
      "source": [
        "!pip install google-auth\n",
        "from google.colab import auth\n",
        "from google.colab import drive\n",
        "\n",
        "drive.mount('/content/drive')\n",
        "\n",
        "# !pip install torchvision\n",
        "!pip install onnx\n",
        "# !pip install tensorflow\n",
        "!pip install onnx_tf"
      ]
    },
    {
      "cell_type": "code",
      "source": [
        "import torch\n",
        "import torch.nn as nn\n",
        "import torch.onnx\n",
        "from torch.autograd import Variable\n",
        "\n",
        "# Define the PyTorch model class\n",
        "class Model(nn.Module):\n",
        "    def __init__(self, in_features=5, h1=61, h2=60, out_features=1):\n",
        "        super(Model, self).__init__()\n",
        "        self.fc1 = nn.Linear(in_features, h1)\n",
        "        self.fc2 = nn.Linear(h1, h2)\n",
        "        self.out = nn.Linear(h2, out_features)\n",
        "        self.sigmoid = nn.Sigmoid()\n",
        "\n",
        "    def forward(self, x):\n",
        "        x = self.sigmoid(self.fc1(x))\n",
        "        x = self.sigmoid(self.fc2(x))\n",
        "        x = self.out(x)\n",
        "        return x"
      ],
      "metadata": {
        "id": "r-smHm02J_FK"
      },
      "execution_count": 17,
      "outputs": []
    },
    {
      "cell_type": "code",
      "source": [
        "# Load the saved PyTorch model\n",
        "model = Model()\n",
        "model.load_state_dict(torch.load('/content/drive/MyDrive/komegaSST_data/airfoil_model.pt'))\n",
        "model.eval()"
      ],
      "metadata": {
        "colab": {
          "base_uri": "https://localhost:8080/"
        },
        "id": "uDqmuHhIKUzw",
        "outputId": "ee33ab4d-c4b1-4c55-fda4-332a62fefcbe"
      },
      "execution_count": 18,
      "outputs": [
        {
          "output_type": "execute_result",
          "data": {
            "text/plain": [
              "Model(\n",
              "  (fc1): Linear(in_features=5, out_features=61, bias=True)\n",
              "  (fc2): Linear(in_features=61, out_features=60, bias=True)\n",
              "  (out): Linear(in_features=60, out_features=1, bias=True)\n",
              "  (sigmoid): Sigmoid()\n",
              ")"
            ]
          },
          "metadata": {},
          "execution_count": 18
        }
      ]
    },
    {
      "cell_type": "code",
      "source": [
        "# Define file paths\n",
        "onnx_file_path = \"/content/drive/MyDrive/komegaSST_data/airfoil_model.onnx\"\n",
        "dummy_input = torch.randn(1,5)\n",
        "\n",
        "# Step 1: Export PyTorch model to ONNX format\n",
        "def export_pytorch_to_onnx(model, dummy_input, onnx_file_path):\n",
        "    torch.onnx.export(\n",
        "        model,\n",
        "        dummy_input,\n",
        "        onnx_file_path,\n",
        "        export_params=True,\n",
        "        opset_version=11,\n",
        "        do_constant_folding=True,\n",
        "        input_names=['input'],\n",
        "        output_names=['output']\n",
        "    )"
      ],
      "metadata": {
        "id": "oPVhGs2aKdMx"
      },
      "execution_count": 19,
      "outputs": []
    },
    {
      "cell_type": "code",
      "source": [
        "# Perform the conversion\n",
        "export_pytorch_to_onnx(model, dummy_input, onnx_file_path)\n"
      ],
      "metadata": {
        "id": "UmMg4BFJi8t8"
      },
      "execution_count": 20,
      "outputs": []
    },
    {
      "cell_type": "code",
      "source": [
        "!pip install onnx2pytorch\n",
        "import onnx\n",
        "from onnx2pytorch import ConvertModel\n",
        "import torch\n",
        "\n",
        "# Load the ONNX model\n",
        "onnx_model = onnx.load(onnx_file_path)\n",
        "\n",
        "# Convert the ONNX model to a PyTorch model\n",
        "pytorch_converted_model = ConvertModel(onnx_model)\n",
        "\n",
        "# Save the converted PyTorch model state dictionary for later use if needed\n",
        "torch.save(pytorch_converted_model.state_dict(), '/content/drive/MyDrive/komegaSST_data/converted_airfoil_model.pt')"
      ],
      "metadata": {
        "colab": {
          "base_uri": "https://localhost:8080/"
        },
        "id": "Z_9eqHMGKnXc",
        "outputId": "5c1e4872-dd61-4277-d377-3bc842c619cc"
      },
      "execution_count": 21,
      "outputs": [
        {
          "output_type": "stream",
          "name": "stdout",
          "text": [
            "Requirement already satisfied: onnx2pytorch in /usr/local/lib/python3.10/dist-packages (0.4.1)\n",
            "Requirement already satisfied: torch>=1.4.0 in /usr/local/lib/python3.10/dist-packages (from onnx2pytorch) (2.3.1+cu121)\n",
            "Requirement already satisfied: onnx>=1.6.0 in /usr/local/lib/python3.10/dist-packages (from onnx2pytorch) (1.16.1)\n",
            "Requirement already satisfied: torchvision>=0.9.0 in /usr/local/lib/python3.10/dist-packages (from onnx2pytorch) (0.18.1+cu121)\n",
            "Requirement already satisfied: numpy>=1.20 in /usr/local/lib/python3.10/dist-packages (from onnx>=1.6.0->onnx2pytorch) (1.25.2)\n",
            "Requirement already satisfied: protobuf>=3.20.2 in /usr/local/lib/python3.10/dist-packages (from onnx>=1.6.0->onnx2pytorch) (3.20.3)\n",
            "Requirement already satisfied: filelock in /usr/local/lib/python3.10/dist-packages (from torch>=1.4.0->onnx2pytorch) (3.15.4)\n",
            "Requirement already satisfied: typing-extensions>=4.8.0 in /usr/local/lib/python3.10/dist-packages (from torch>=1.4.0->onnx2pytorch) (4.12.2)\n",
            "Requirement already satisfied: sympy in /usr/local/lib/python3.10/dist-packages (from torch>=1.4.0->onnx2pytorch) (1.13.0)\n",
            "Requirement already satisfied: networkx in /usr/local/lib/python3.10/dist-packages (from torch>=1.4.0->onnx2pytorch) (3.3)\n",
            "Requirement already satisfied: jinja2 in /usr/local/lib/python3.10/dist-packages (from torch>=1.4.0->onnx2pytorch) (3.1.4)\n",
            "Requirement already satisfied: fsspec in /usr/local/lib/python3.10/dist-packages (from torch>=1.4.0->onnx2pytorch) (2023.6.0)\n",
            "Requirement already satisfied: nvidia-cuda-nvrtc-cu12==12.1.105 in /usr/local/lib/python3.10/dist-packages (from torch>=1.4.0->onnx2pytorch) (12.1.105)\n",
            "Requirement already satisfied: nvidia-cuda-runtime-cu12==12.1.105 in /usr/local/lib/python3.10/dist-packages (from torch>=1.4.0->onnx2pytorch) (12.1.105)\n",
            "Requirement already satisfied: nvidia-cuda-cupti-cu12==12.1.105 in /usr/local/lib/python3.10/dist-packages (from torch>=1.4.0->onnx2pytorch) (12.1.105)\n",
            "Requirement already satisfied: nvidia-cudnn-cu12==8.9.2.26 in /usr/local/lib/python3.10/dist-packages (from torch>=1.4.0->onnx2pytorch) (8.9.2.26)\n",
            "Requirement already satisfied: nvidia-cublas-cu12==12.1.3.1 in /usr/local/lib/python3.10/dist-packages (from torch>=1.4.0->onnx2pytorch) (12.1.3.1)\n",
            "Requirement already satisfied: nvidia-cufft-cu12==11.0.2.54 in /usr/local/lib/python3.10/dist-packages (from torch>=1.4.0->onnx2pytorch) (11.0.2.54)\n",
            "Requirement already satisfied: nvidia-curand-cu12==10.3.2.106 in /usr/local/lib/python3.10/dist-packages (from torch>=1.4.0->onnx2pytorch) (10.3.2.106)\n",
            "Requirement already satisfied: nvidia-cusolver-cu12==11.4.5.107 in /usr/local/lib/python3.10/dist-packages (from torch>=1.4.0->onnx2pytorch) (11.4.5.107)\n",
            "Requirement already satisfied: nvidia-cusparse-cu12==12.1.0.106 in /usr/local/lib/python3.10/dist-packages (from torch>=1.4.0->onnx2pytorch) (12.1.0.106)\n",
            "Requirement already satisfied: nvidia-nccl-cu12==2.20.5 in /usr/local/lib/python3.10/dist-packages (from torch>=1.4.0->onnx2pytorch) (2.20.5)\n",
            "Requirement already satisfied: nvidia-nvtx-cu12==12.1.105 in /usr/local/lib/python3.10/dist-packages (from torch>=1.4.0->onnx2pytorch) (12.1.105)\n",
            "Requirement already satisfied: triton==2.3.1 in /usr/local/lib/python3.10/dist-packages (from torch>=1.4.0->onnx2pytorch) (2.3.1)\n",
            "Requirement already satisfied: nvidia-nvjitlink-cu12 in /usr/local/lib/python3.10/dist-packages (from nvidia-cusolver-cu12==11.4.5.107->torch>=1.4.0->onnx2pytorch) (12.5.82)\n",
            "Requirement already satisfied: pillow!=8.3.*,>=5.3.0 in /usr/local/lib/python3.10/dist-packages (from torchvision>=0.9.0->onnx2pytorch) (9.4.0)\n",
            "Requirement already satisfied: MarkupSafe>=2.0 in /usr/local/lib/python3.10/dist-packages (from jinja2->torch>=1.4.0->onnx2pytorch) (2.1.5)\n",
            "Requirement already satisfied: mpmath<1.4,>=1.1.0 in /usr/local/lib/python3.10/dist-packages (from sympy->torch>=1.4.0->onnx2pytorch) (1.3.0)\n"
          ]
        }
      ]
    },
    {
      "cell_type": "code",
      "source": [
        "# Load the original PyTorch model and converted model for comparison\n",
        "original_model = Model()\n",
        "original_model.load_state_dict(torch.load('/content/drive/MyDrive/komegaSST_data/airfoil_model.pt'))\n",
        "original_model.eval()\n",
        "\n",
        "converted_model = ConvertModel(onnx_model)\n",
        "converted_model.load_state_dict(torch.load('/content/drive/MyDrive/komegaSST_data/converted_airfoil_model.pt'))\n",
        "converted_model.eval()\n",
        "\n",
        "# Compare the weights\n",
        "for (original_param, converted_param) in zip(original_model.parameters(), converted_model.parameters()):\n",
        "    assert torch.allclose(original_param, converted_param, atol=1e-6), \"The weights are different!\"\n",
        "print(\"All weights are correctly transferred.\")"
      ],
      "metadata": {
        "colab": {
          "base_uri": "https://localhost:8080/"
        },
        "id": "6300xYwLKsvG",
        "outputId": "fa12df8e-0c5f-4372-c105-5552db1c7008"
      },
      "execution_count": 22,
      "outputs": [
        {
          "output_type": "stream",
          "name": "stdout",
          "text": [
            "All weights are correctly transferred.\n"
          ]
        }
      ]
    },
    {
      "cell_type": "code",
      "source": [
        "import numpy as np\n",
        "\n",
        "# Generate a sample input tensor\n",
        "input_data = np.random.randn(1, 5).astype(np.float32)\n",
        "pytorch_input = torch.from_numpy(input_data)\n",
        "\n",
        "# Get the original PyTorch model output\n",
        "with torch.no_grad():\n",
        "    original_output = original_model(pytorch_input).numpy()\n",
        "\n",
        "# Get the converted PyTorch model output\n",
        "with torch.no_grad():\n",
        "    converted_output = converted_model(pytorch_input).numpy()\n",
        "\n",
        "# Compare the outputs\n",
        "print(\"Original PyTorch Model Output:\", original_output)\n",
        "print(\"Converted PyTorch Model Output:\", converted_output)\n",
        "\n",
        "# Check if the outputs are close\n",
        "if np.allclose(original_output, converted_output, atol=1e-12):\n",
        "    print(\"The outputs are the same within the tolerance level.\")\n",
        "else:\n",
        "    print(\"The outputs are different.\")"
      ],
      "metadata": {
        "colab": {
          "base_uri": "https://localhost:8080/"
        },
        "id": "iv1Mvi7dNse7",
        "outputId": "a80cc7b6-362c-47f6-e100-99aa39a4af13"
      },
      "execution_count": 23,
      "outputs": [
        {
          "output_type": "stream",
          "name": "stdout",
          "text": [
            "Original PyTorch Model Output: [[0.92962337]]\n",
            "Converted PyTorch Model Output: [[0.92962337]]\n",
            "The outputs are the same within the tolerance level.\n"
          ]
        }
      ]
    },
    {
      "cell_type": "code",
      "source": [],
      "metadata": {
        "id": "suLwezT7NwUi"
      },
      "execution_count": 23,
      "outputs": []
    },
    {
      "cell_type": "code",
      "source": [
        "import tensorflow as tf\n",
        "\n",
        "# Define the TensorFlow model class\n",
        "class KerasModel(tf.keras.Model):\n",
        "    def __init__(self):\n",
        "        super(KerasModel, self).__init__()\n",
        "        self.fc1 = tf.keras.layers.Dense(61, activation='sigmoid')\n",
        "        self.fc2 = tf.keras.layers.Dense(60, activation='sigmoid')\n",
        "        self.out = tf.keras.layers.Dense(1)\n",
        "\n",
        "    def call(self, x):\n",
        "        x = self.fc1(x)\n",
        "        x = self.fc2(x)\n",
        "        x = self.out(x)\n",
        "        return x\n",
        "\n",
        "# Create an instance of the Keras model\n",
        "keras_model = KerasModel()\n",
        "\n",
        "# Build the Keras model with the input shape\n",
        "keras_model.build(input_shape=(None, 5))"
      ],
      "metadata": {
        "id": "ni2phAHdN14e"
      },
      "execution_count": 24,
      "outputs": []
    },
    {
      "cell_type": "code",
      "source": [
        "import onnx\n",
        "\n",
        "# Load ONNX model\n",
        "onnx_model = onnx.load(onnx_file_path)\n",
        "\n",
        "# Extract weights and biases from ONNX model\n",
        "weights = {}\n",
        "for initializer in onnx_model.graph.initializer:\n",
        "    weights[initializer.name] = onnx.numpy_helper.to_array(initializer)\n"
      ],
      "metadata": {
        "id": "cHWXMYO5N-PB"
      },
      "execution_count": 25,
      "outputs": []
    },
    {
      "cell_type": "code",
      "source": [
        "# Assign the weights and biases to the TensorFlow model\n",
        "keras_model.fc1.set_weights([weights['fc1.weight'].T, weights['fc1.bias']])\n",
        "keras_model.fc2.set_weights([weights['fc2.weight'].T, weights['fc2.bias']])\n",
        "keras_model.out.set_weights([weights['out.weight'].T, weights['out.bias']])\n",
        "\n",
        "# Perform a forward pass with dummy data to ensure initialization\n",
        "dummy_input = tf.random.normal([1, 5])\n",
        "keras_model(dummy_input)\n",
        "\n",
        "# Save the Keras model\n",
        "final_tf_export_path = '/content/drive/MyDrive/komegaSST_data/tf_final'\n",
        "tf.keras.models.save_model(keras_model, final_tf_export_path, save_format='tf')\n"
      ],
      "metadata": {
        "id": "IfZDeS8CO_Qc"
      },
      "execution_count": 26,
      "outputs": []
    },
    {
      "cell_type": "code",
      "source": [],
      "metadata": {
        "id": "fkokCKZ7mF-9"
      },
      "execution_count": 26,
      "outputs": []
    },
    {
      "cell_type": "code",
      "source": [
        "import numpy as np\n",
        "\n",
        "# Generate a sample input tensor\n",
        "input_data = np.random.randn(1, 5).astype(np.float32)\n",
        "\n",
        "# Convert the numpy array to a PyTorch tensor\n",
        "pytorch_input = torch.from_numpy(input_data)\n",
        "\n",
        "# Get the PyTorch model output\n",
        "with torch.no_grad():\n",
        "    pytorch_output = model(pytorch_input).numpy()\n",
        "\n",
        "# Load the final TensorFlow model\n",
        "tf_model_final = tf.keras.models.load_model(final_tf_export_path)\n",
        "\n",
        "# Get the TensorFlow model output\n",
        "tf_output = tf_model_final(input_data).numpy()\n",
        "\n",
        "# Compare the outputs\n",
        "print(\"PyTorch Model Output:\", pytorch_output)\n",
        "print(\"TensorFlow Model Output:\", tf_output)\n",
        "\n",
        "# Check if the outputs are close\n",
        "if np.allclose(pytorch_output, tf_output, atol=1e-12):\n",
        "    print(\"The outputs are the same within the tolerance level.\")\n",
        "else:\n",
        "    print(\"The outputs are different.\")\n"
      ],
      "metadata": {
        "colab": {
          "base_uri": "https://localhost:8080/"
        },
        "id": "iGaYdL0DmF8Z",
        "outputId": "f680c72d-f12a-4683-b9a3-81be7b0764ef"
      },
      "execution_count": 27,
      "outputs": [
        {
          "output_type": "stream",
          "name": "stderr",
          "text": [
            "WARNING:tensorflow:No training configuration found in save file, so the model was *not* compiled. Compile it manually.\n"
          ]
        },
        {
          "output_type": "stream",
          "name": "stdout",
          "text": [
            "PyTorch Model Output: [[0.9564401]]\n",
            "TensorFlow Model Output: [[0.95644015]]\n",
            "The outputs are the same within the tolerance level.\n"
          ]
        }
      ]
    },
    {
      "cell_type": "code",
      "source": [],
      "metadata": {
        "id": "kalWG7GVmF6I"
      },
      "execution_count": 27,
      "outputs": []
    },
    {
      "cell_type": "code",
      "source": [],
      "metadata": {
        "id": "RpKmgqZ2mF4P"
      },
      "execution_count": 27,
      "outputs": []
    },
    {
      "cell_type": "code",
      "source": [],
      "metadata": {
        "id": "2smp654smF09"
      },
      "execution_count": 27,
      "outputs": []
    },
    {
      "cell_type": "code",
      "source": [],
      "metadata": {
        "id": "hXkyuW1XmFyY"
      },
      "execution_count": 27,
      "outputs": []
    },
    {
      "cell_type": "code",
      "source": [],
      "metadata": {
        "id": "dLiKx6TBmFvu"
      },
      "execution_count": 27,
      "outputs": []
    },
    {
      "cell_type": "code",
      "source": [],
      "metadata": {
        "id": "X7QziN3SmFs6"
      },
      "execution_count": 27,
      "outputs": []
    },
    {
      "cell_type": "code",
      "source": [],
      "metadata": {
        "id": "oEChje5VmFpN"
      },
      "execution_count": 27,
      "outputs": []
    },
    {
      "cell_type": "code",
      "source": [
        "# import numpy as np\n",
        "# import pandas as pd\n",
        "# import matplotlib.pyplot as plt\n",
        "\n",
        "# dff = pd.read_csv(\"/content/drive/MyDrive/data_set3.csv\")\n",
        "\n",
        "# # dff.loc[dff['beta']<0.995, \"beta\"] = 1.5\n",
        "# # dff.loc[dff['beta']>1.005, \"beta\"] = 1.5\n",
        "\n",
        "\n",
        "# frames = [dff]\n",
        "# ff = []\n",
        "\n",
        "# for item in frames:\n",
        "#   xc = np.array(item['x'])\n",
        "#   yc = np.array(item['y'])\n",
        "#   b = np.array(item['beta'])\n",
        "#   ff1 = np.array(item['feature1'])\n",
        "#   ff2 = np.array(item['feature2'])\n",
        "#   ff3 = np.array(item['feature3'])\n",
        "#   ff4 = np.array(item['feature4'])\n",
        "#   ff5 = np.array(item['feature5'])\n",
        "#   ff6 = np.array(item['feature6'])\n",
        "\n",
        "#   # # Normalize x and y coordinates\n",
        "#   # min_range = -5.0\n",
        "#   # max_range = 5.0\n",
        "#   # xc = (xc - np.min(xc)) * (max_range - min_range) / (np.max(xc) - np.min(xc))\n",
        "#   # yc = (yc - np.min(yc)) * (max_range - min_range) / (np.max(yc) - np.min(yc))\n",
        "\n",
        "\n",
        "#   x1,y1,b1,f1,f2,f3,f4,f5,f6 = [[] for i in range(9)]\n",
        "#   # Filter data for the specified range of coordinates\n",
        "#   for i in range(len(xc)):\n",
        "#     if xc[i]>=-0.2 and xc[i]<=1.05:\n",
        "#       if yc[i]>=-0.15 and yc[i]<=0.20:\n",
        "#         # if (b[i]<0.995) | (b[i]>1.005):\n",
        "#           x1.append(xc[i])\n",
        "#           y1.append(yc[i])\n",
        "#           b1.append(b[i])\n",
        "#           f1.append(ff1[i])\n",
        "#           f2.append(ff2[i])\n",
        "#           f3.append(ff3[i])\n",
        "#           f4.append(ff4[i])\n",
        "#           f5.append(ff5[i])\n",
        "#           f6.append(ff6[i])\n",
        "\n",
        "#   modified_data = {\n",
        "#   'x': np.array(x1),\n",
        "#   'y': np.array(y1),\n",
        "#   'beta': np.array(b1),\n",
        "#   'feature1': np.array(f1),\n",
        "#   'feature2': np.array(f2),\n",
        "#   'feature3': np.array(f3),\n",
        "#   'feature4': np.array(f4),\n",
        "#   'feature5': np.array(f5),\n",
        "#   'feature6': np.array(f6)\n",
        "#   }\n",
        "\n",
        "\n",
        "#   ff.append(pd.DataFrame(modified_data))\n",
        "\n",
        "#   # Create a scatter plot\n",
        "#   plt.scatter(x1, y1, c=b1,  cmap= 'RdYlGn',alpha=1, marker='.',s=250)\n",
        "#   plt.colorbar(label='Feature6')\n",
        "#   plt.xlabel('X Coordinate')\n",
        "#   plt.ylabel('Y Coordinate')\n",
        "#   plt.title('Training data')\n",
        "#   plt.show()\n",
        "# ###############################################################################\n",
        "\n",
        "# dff1 = pd.concat(ff)"
      ],
      "metadata": {
        "id": "jplMhLs3gf2B"
      },
      "execution_count": 28,
      "outputs": []
    },
    {
      "cell_type": "code",
      "source": [
        "# print(len(x1))"
      ],
      "metadata": {
        "id": "EdzMjwu9BfaJ"
      },
      "execution_count": 29,
      "outputs": []
    },
    {
      "cell_type": "code",
      "source": [
        "# dff2 = dff1.drop(['x','y','beta'],axis=1)\n",
        "# X2 = dff2.values\n",
        "# X2 = torch.FloatTensor(X2)\n",
        "# y2 = model.forward(X2)\n",
        "# y2 = y2.detach().numpy()\n",
        "\n",
        "# # Create a scatter plot\n",
        "# plt.scatter(x1, y1, c=y2,  cmap= 'RdYlGn',alpha=1, marker='.',s=250)\n",
        "# plt.colorbar(label='Beta Field')\n",
        "# plt.xlabel('X Coordinate')\n",
        "# plt.ylabel('Y Coordinate')\n",
        "# plt.title('Reconstructed beta field using trained weights')\n",
        "# plt.show()\n"
      ],
      "metadata": {
        "id": "j9U26rnsgkbo"
      },
      "execution_count": 30,
      "outputs": []
    },
    {
      "cell_type": "code",
      "source": [
        "# X3 = dff2.values\n",
        "# X3 = np.array(X3,dtype=np.float32)\n",
        "# y3 = tf_model_final.predict(X3)"
      ],
      "metadata": {
        "id": "iZpZgIZ7oMI9"
      },
      "execution_count": 31,
      "outputs": []
    },
    {
      "cell_type": "code",
      "source": [
        "# # Create a scatter plot\n",
        "# plt.scatter(x1, y1, c=y3,  cmap= 'bwr',alpha=1, marker='.',s=250)\n",
        "# plt.colorbar(label='Beta Field')\n",
        "# plt.xlabel('X Coordinate')\n",
        "# plt.ylabel('Y Coordinate')\n",
        "# plt.title('Reconstructed beta field using trained weights')\n",
        "# plt.show()"
      ],
      "metadata": {
        "id": "icvHw3hsp3mV"
      },
      "execution_count": 32,
      "outputs": []
    },
    {
      "cell_type": "code",
      "source": [
        "# import numpy as np\n",
        "\n",
        "# def check_arrays_close(arr1, arr2, tolerance=1e-32):\n",
        "#     if np.allclose(arr1, arr2, atol=tolerance):\n",
        "#         print(\"The arrays are the same within the tolerance level.\")\n",
        "#     else:\n",
        "#         print(\"The arrays are different within the tolerance level.\")\n",
        "\n",
        "# def check_arrays_equal(arr1, arr2):\n",
        "#     if np.array_equal(arr1, arr2):\n",
        "#         print(\"The arrays are exactly the same.\")\n",
        "#     else:\n",
        "#         print(\"The arrays are different.\")\n",
        "\n",
        "# def find_differences(arr1, arr2):\n",
        "#     if arr1.shape != arr2.shape:\n",
        "#         print(\"The arrays have different shapes and cannot be compared element-wise.\")\n",
        "#         return\n",
        "\n",
        "#     diff_indices = np.where(arr1 != arr2)\n",
        "#     if diff_indices[0].size == 0:\n",
        "#         print(\"The arrays are exactly the same.\")\n",
        "#     else:\n",
        "#         print(\"The arrays are different at the following indices:\")\n",
        "#         for index in zip(*diff_indices):\n",
        "#             print(f\"Index {index}: arr1 = {arr1[index]}, arr2 = {arr2[index]}\")\n",
        "\n",
        "# print(\"Check if arrays are close:\")\n",
        "# check_arrays_close(y2, y3)\n",
        "# print(\"\\nCheck if arrays are exactly equal:\")\n",
        "# check_arrays_equal(y2, y3)\n",
        "# print(\"\\nFind differences:\")\n",
        "# find_differences(y2, y3)\n"
      ],
      "metadata": {
        "id": "rkmFyXrEp8Vv"
      },
      "execution_count": 33,
      "outputs": []
    },
    {
      "cell_type": "code",
      "source": [],
      "metadata": {
        "id": "lRB4R63WIgcQ"
      },
      "execution_count": 33,
      "outputs": []
    }
  ]
}