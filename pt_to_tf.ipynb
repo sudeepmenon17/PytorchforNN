{
  "nbformat": 4,
  "nbformat_minor": 0,
  "metadata": {
    "colab": {
      "provenance": [],
      "authorship_tag": "ABX9TyO7ipYDIrGmN9OpAM/3ziMo",
      "include_colab_link": true
    },
    "kernelspec": {
      "name": "python3",
      "display_name": "Python 3"
    },
    "language_info": {
      "name": "python"
    }
  },
  "cells": [
    {
      "cell_type": "markdown",
      "metadata": {
        "id": "view-in-github",
        "colab_type": "text"
      },
      "source": [
        "<a href=\"https://colab.research.google.com/github/sudeepmenon17/PytorchforNN/blob/main/pt_to_tf.ipynb\" target=\"_parent\"><img src=\"https://colab.research.google.com/assets/colab-badge.svg\" alt=\"Open In Colab\"/></a>"
      ]
    },
    {
      "cell_type": "code",
      "execution_count": 16,
      "metadata": {
        "colab": {
          "base_uri": "https://localhost:8080/"
        },
        "id": "0Lay2PcCJsUo",
        "outputId": "55fab9ed-0cdc-4202-c7fe-d922325ebf61"
      },
      "outputs": [
        {
          "output_type": "stream",
          "name": "stdout",
          "text": [
            "Requirement already satisfied: google-auth in /usr/local/lib/python3.11/dist-packages (2.38.0)\n",
            "Requirement already satisfied: cachetools<6.0,>=2.0.0 in /usr/local/lib/python3.11/dist-packages (from google-auth) (5.5.2)\n",
            "Requirement already satisfied: pyasn1-modules>=0.2.1 in /usr/local/lib/python3.11/dist-packages (from google-auth) (0.4.2)\n",
            "Requirement already satisfied: rsa<5,>=3.1.4 in /usr/local/lib/python3.11/dist-packages (from google-auth) (4.9.1)\n",
            "Requirement already satisfied: pyasn1<0.7.0,>=0.6.1 in /usr/local/lib/python3.11/dist-packages (from pyasn1-modules>=0.2.1->google-auth) (0.6.1)\n",
            "Drive already mounted at /content/drive; to attempt to forcibly remount, call drive.mount(\"/content/drive\", force_remount=True).\n",
            "Requirement already satisfied: onnx in /usr/local/lib/python3.11/dist-packages (1.17.0)\n",
            "Requirement already satisfied: numpy>=1.20 in /usr/local/lib/python3.11/dist-packages (from onnx) (2.0.2)\n",
            "Requirement already satisfied: protobuf>=3.20.2 in /usr/local/lib/python3.11/dist-packages (from onnx) (5.29.4)\n",
            "Requirement already satisfied: onnx_tf in /usr/local/lib/python3.11/dist-packages (1.10.0)\n",
            "Requirement already satisfied: onnx>=1.10.2 in /usr/local/lib/python3.11/dist-packages (from onnx_tf) (1.17.0)\n",
            "Requirement already satisfied: PyYAML in /usr/local/lib/python3.11/dist-packages (from onnx_tf) (6.0.2)\n",
            "Requirement already satisfied: tensorflow-addons in /usr/local/lib/python3.11/dist-packages (from onnx_tf) (0.23.0)\n",
            "Requirement already satisfied: numpy>=1.20 in /usr/local/lib/python3.11/dist-packages (from onnx>=1.10.2->onnx_tf) (2.0.2)\n",
            "Requirement already satisfied: protobuf>=3.20.2 in /usr/local/lib/python3.11/dist-packages (from onnx>=1.10.2->onnx_tf) (5.29.4)\n",
            "Requirement already satisfied: packaging in /usr/local/lib/python3.11/dist-packages (from tensorflow-addons->onnx_tf) (24.2)\n",
            "Requirement already satisfied: typeguard<3.0.0,>=2.7 in /usr/local/lib/python3.11/dist-packages (from tensorflow-addons->onnx_tf) (2.13.3)\n"
          ]
        }
      ],
      "source": [
        "!pip install google-auth\n",
        "from google.colab import auth\n",
        "from google.colab import drive\n",
        "\n",
        "drive.mount('/content/drive')\n",
        "\n",
        "# !pip install torchvision\n",
        "!pip install onnx\n",
        "# !pip install tensorflow\n",
        "!pip install onnx_tf"
      ]
    },
    {
      "cell_type": "code",
      "source": [
        "import torch\n",
        "import torch.nn as nn\n",
        "import torch.onnx\n",
        "from torch.autograd import Variable\n",
        "\n",
        "# Define the PyTorch model class\n",
        "class Model(nn.Module):\n",
        "    def __init__(self, in_features=5, h1=61, h2=60, h3=40, out_features=1):\n",
        "        super(Model, self).__init__()\n",
        "        self.fc1 = nn.Linear(in_features, h1)\n",
        "        self.fc2 = nn.Linear(h1, h2)\n",
        "        self.fc3 = nn.Linear(h2, h3)\n",
        "        self.out = nn.Linear(h3, out_features)\n",
        "        self.sigmoid = nn.Sigmoid()\n",
        "\n",
        "    def forward(self, x):\n",
        "        x = self.sigmoid(self.fc1(x))\n",
        "        x = self.sigmoid(self.fc2(x))\n",
        "        x = self.sigmoid(self.fc3(x))\n",
        "        x = self.out(x)\n",
        "        return x"
      ],
      "metadata": {
        "id": "r-smHm02J_FK"
      },
      "execution_count": 17,
      "outputs": []
    },
    {
      "cell_type": "code",
      "source": [
        "# Load the saved PyTorch model\n",
        "model = Model()\n",
        "#model.load_state_dict(torch.load('/content/drive/MyDrive/komegaSST_data/airfoil_model.pt'))\n",
        "model.load_state_dict(torch.load('/content/drive/MyDrive/komegaSST_data/NNmodel2.pt'))\n",
        "model.eval()"
      ],
      "metadata": {
        "colab": {
          "base_uri": "https://localhost:8080/"
        },
        "id": "uDqmuHhIKUzw",
        "outputId": "96c10162-802c-4182-aa89-f4ada718e2d1"
      },
      "execution_count": 18,
      "outputs": [
        {
          "output_type": "execute_result",
          "data": {
            "text/plain": [
              "Model(\n",
              "  (fc1): Linear(in_features=5, out_features=61, bias=True)\n",
              "  (fc2): Linear(in_features=61, out_features=60, bias=True)\n",
              "  (fc3): Linear(in_features=60, out_features=40, bias=True)\n",
              "  (out): Linear(in_features=40, out_features=1, bias=True)\n",
              "  (sigmoid): Sigmoid()\n",
              ")"
            ]
          },
          "metadata": {},
          "execution_count": 18
        }
      ]
    },
    {
      "cell_type": "code",
      "source": [
        "# Define file paths\n",
        "onnx_file_path = \"/content/drive/MyDrive/komegaSST_data/NNmodel2.onnx\"\n",
        "dummy_input = torch.randn(1,5)\n",
        "\n",
        "# Step 1: Export PyTorch model to ONNX format\n",
        "def export_pytorch_to_onnx(model, dummy_input, onnx_file_path):\n",
        "    torch.onnx.export(\n",
        "        model,\n",
        "        dummy_input,\n",
        "        onnx_file_path,\n",
        "        export_params=True,\n",
        "        opset_version=11,\n",
        "        do_constant_folding=True,\n",
        "        input_names=['input'],\n",
        "        output_names=['output']\n",
        "    )"
      ],
      "metadata": {
        "id": "oPVhGs2aKdMx"
      },
      "execution_count": 19,
      "outputs": []
    },
    {
      "cell_type": "code",
      "source": [
        "# Perform the conversion\n",
        "export_pytorch_to_onnx(model, dummy_input, onnx_file_path)\n"
      ],
      "metadata": {
        "id": "UmMg4BFJi8t8"
      },
      "execution_count": 20,
      "outputs": []
    },
    {
      "cell_type": "code",
      "source": [
        "!pip install onnx2pytorch\n",
        "import onnx\n",
        "from onnx2pytorch import ConvertModel\n",
        "import torch\n",
        "\n",
        "# Load the ONNX model\n",
        "onnx_model = onnx.load(onnx_file_path)\n",
        "\n",
        "# Convert the ONNX model to a PyTorch model\n",
        "pytorch_converted_model = ConvertModel(onnx_model)\n",
        "\n",
        "# Save the converted PyTorch model state dictionary for later use if needed\n",
        "torch.save(pytorch_converted_model.state_dict(), '/content/drive/MyDrive/komegaSST_data/converted_NN_model2.pt')"
      ],
      "metadata": {
        "colab": {
          "base_uri": "https://localhost:8080/"
        },
        "id": "Z_9eqHMGKnXc",
        "outputId": "92f80ba2-9f86-4049-95ff-288c75be3252"
      },
      "execution_count": 21,
      "outputs": [
        {
          "output_type": "stream",
          "name": "stdout",
          "text": [
            "Requirement already satisfied: onnx2pytorch in /usr/local/lib/python3.11/dist-packages (0.5.1)\n",
            "Requirement already satisfied: torch>=1.4.0 in /usr/local/lib/python3.11/dist-packages (from onnx2pytorch) (2.6.0+cu124)\n",
            "Requirement already satisfied: onnx>=1.6.0 in /usr/local/lib/python3.11/dist-packages (from onnx2pytorch) (1.17.0)\n",
            "Requirement already satisfied: torchvision>=0.9.0 in /usr/local/lib/python3.11/dist-packages (from onnx2pytorch) (0.21.0+cu124)\n",
            "Requirement already satisfied: numpy>=1.20 in /usr/local/lib/python3.11/dist-packages (from onnx>=1.6.0->onnx2pytorch) (2.0.2)\n",
            "Requirement already satisfied: protobuf>=3.20.2 in /usr/local/lib/python3.11/dist-packages (from onnx>=1.6.0->onnx2pytorch) (5.29.4)\n",
            "Requirement already satisfied: filelock in /usr/local/lib/python3.11/dist-packages (from torch>=1.4.0->onnx2pytorch) (3.18.0)\n",
            "Requirement already satisfied: typing-extensions>=4.10.0 in /usr/local/lib/python3.11/dist-packages (from torch>=1.4.0->onnx2pytorch) (4.13.2)\n",
            "Requirement already satisfied: networkx in /usr/local/lib/python3.11/dist-packages (from torch>=1.4.0->onnx2pytorch) (3.4.2)\n",
            "Requirement already satisfied: jinja2 in /usr/local/lib/python3.11/dist-packages (from torch>=1.4.0->onnx2pytorch) (3.1.6)\n",
            "Requirement already satisfied: fsspec in /usr/local/lib/python3.11/dist-packages (from torch>=1.4.0->onnx2pytorch) (2025.3.2)\n",
            "Requirement already satisfied: nvidia-cuda-nvrtc-cu12==12.4.127 in /usr/local/lib/python3.11/dist-packages (from torch>=1.4.0->onnx2pytorch) (12.4.127)\n",
            "Requirement already satisfied: nvidia-cuda-runtime-cu12==12.4.127 in /usr/local/lib/python3.11/dist-packages (from torch>=1.4.0->onnx2pytorch) (12.4.127)\n",
            "Requirement already satisfied: nvidia-cuda-cupti-cu12==12.4.127 in /usr/local/lib/python3.11/dist-packages (from torch>=1.4.0->onnx2pytorch) (12.4.127)\n",
            "Requirement already satisfied: nvidia-cudnn-cu12==9.1.0.70 in /usr/local/lib/python3.11/dist-packages (from torch>=1.4.0->onnx2pytorch) (9.1.0.70)\n",
            "Requirement already satisfied: nvidia-cublas-cu12==12.4.5.8 in /usr/local/lib/python3.11/dist-packages (from torch>=1.4.0->onnx2pytorch) (12.4.5.8)\n",
            "Requirement already satisfied: nvidia-cufft-cu12==11.2.1.3 in /usr/local/lib/python3.11/dist-packages (from torch>=1.4.0->onnx2pytorch) (11.2.1.3)\n",
            "Requirement already satisfied: nvidia-curand-cu12==10.3.5.147 in /usr/local/lib/python3.11/dist-packages (from torch>=1.4.0->onnx2pytorch) (10.3.5.147)\n",
            "Requirement already satisfied: nvidia-cusolver-cu12==11.6.1.9 in /usr/local/lib/python3.11/dist-packages (from torch>=1.4.0->onnx2pytorch) (11.6.1.9)\n",
            "Requirement already satisfied: nvidia-cusparse-cu12==12.3.1.170 in /usr/local/lib/python3.11/dist-packages (from torch>=1.4.0->onnx2pytorch) (12.3.1.170)\n",
            "Requirement already satisfied: nvidia-cusparselt-cu12==0.6.2 in /usr/local/lib/python3.11/dist-packages (from torch>=1.4.0->onnx2pytorch) (0.6.2)\n",
            "Requirement already satisfied: nvidia-nccl-cu12==2.21.5 in /usr/local/lib/python3.11/dist-packages (from torch>=1.4.0->onnx2pytorch) (2.21.5)\n",
            "Requirement already satisfied: nvidia-nvtx-cu12==12.4.127 in /usr/local/lib/python3.11/dist-packages (from torch>=1.4.0->onnx2pytorch) (12.4.127)\n",
            "Requirement already satisfied: nvidia-nvjitlink-cu12==12.4.127 in /usr/local/lib/python3.11/dist-packages (from torch>=1.4.0->onnx2pytorch) (12.4.127)\n",
            "Requirement already satisfied: triton==3.2.0 in /usr/local/lib/python3.11/dist-packages (from torch>=1.4.0->onnx2pytorch) (3.2.0)\n",
            "Requirement already satisfied: sympy==1.13.1 in /usr/local/lib/python3.11/dist-packages (from torch>=1.4.0->onnx2pytorch) (1.13.1)\n",
            "Requirement already satisfied: mpmath<1.4,>=1.1.0 in /usr/local/lib/python3.11/dist-packages (from sympy==1.13.1->torch>=1.4.0->onnx2pytorch) (1.3.0)\n",
            "Requirement already satisfied: pillow!=8.3.*,>=5.3.0 in /usr/local/lib/python3.11/dist-packages (from torchvision>=0.9.0->onnx2pytorch) (11.1.0)\n",
            "Requirement already satisfied: MarkupSafe>=2.0 in /usr/local/lib/python3.11/dist-packages (from jinja2->torch>=1.4.0->onnx2pytorch) (3.0.2)\n"
          ]
        }
      ]
    },
    {
      "cell_type": "code",
      "source": [
        "# Load the original PyTorch model and converted model for comparison\n",
        "original_model = Model()\n",
        "original_model.load_state_dict(torch.load('/content/drive/MyDrive/komegaSST_data/NNmodel2.pt'))\n",
        "original_model.eval()\n",
        "\n",
        "converted_model = ConvertModel(onnx_model)\n",
        "converted_model.load_state_dict(torch.load('/content/drive/MyDrive/komegaSST_data/converted_NN_model2.pt'))\n",
        "converted_model.eval()\n",
        "\n",
        "# Compare the weights\n",
        "for (original_param, converted_param) in zip(original_model.parameters(), converted_model.parameters()):\n",
        "    assert torch.allclose(original_param, converted_param, atol=1e-6), \"The weights are different!\"\n",
        "print(\"All weights are correctly transferred.\")"
      ],
      "metadata": {
        "colab": {
          "base_uri": "https://localhost:8080/"
        },
        "id": "6300xYwLKsvG",
        "outputId": "80979bfe-df6f-4f69-9831-82e1d539bc3d"
      },
      "execution_count": 22,
      "outputs": [
        {
          "output_type": "stream",
          "name": "stdout",
          "text": [
            "All weights are correctly transferred.\n"
          ]
        }
      ]
    },
    {
      "cell_type": "code",
      "source": [
        "import numpy as np\n",
        "\n",
        "# Generate a sample input tensor\n",
        "input_data = np.random.randn(1, 5).astype(np.float32)\n",
        "pytorch_input = torch.from_numpy(input_data)\n",
        "\n",
        "# Get the original PyTorch model output\n",
        "with torch.no_grad():\n",
        "    original_output = original_model(pytorch_input).numpy()\n",
        "\n",
        "# Get the converted PyTorch model output\n",
        "with torch.no_grad():\n",
        "    converted_output = converted_model(pytorch_input).numpy()\n",
        "\n",
        "# Compare the outputs\n",
        "print(\"Original PyTorch Model Output:\", original_output)\n",
        "print(\"Converted PyTorch Model Output:\", converted_output)\n",
        "\n",
        "# Check if the outputs are close\n",
        "if np.allclose(original_output, converted_output, atol=1e-12):\n",
        "    print(\"The outputs are the same within the tolerance level.\")\n",
        "else:\n",
        "    print(\"The outputs are different.\")"
      ],
      "metadata": {
        "colab": {
          "base_uri": "https://localhost:8080/"
        },
        "id": "iv1Mvi7dNse7",
        "outputId": "4811b0ef-3fc3-4d1b-d4a2-c898806f50e5"
      },
      "execution_count": 23,
      "outputs": [
        {
          "output_type": "stream",
          "name": "stdout",
          "text": [
            "Original PyTorch Model Output: [[1.0528562]]\n",
            "Converted PyTorch Model Output: [[1.0528562]]\n",
            "The outputs are the same within the tolerance level.\n"
          ]
        }
      ]
    },
    {
      "cell_type": "code",
      "source": [],
      "metadata": {
        "id": "suLwezT7NwUi"
      },
      "execution_count": null,
      "outputs": []
    },
    {
      "cell_type": "code",
      "source": [
        "import tensorflow as tf\n",
        "\n",
        "# Define the TensorFlow model class\n",
        "class KerasModel(tf.keras.Model):\n",
        "    def __init__(self):\n",
        "        super(KerasModel, self).__init__()\n",
        "        self.fc1 = tf.keras.layers.Dense(61, activation='sigmoid')\n",
        "        self.fc2 = tf.keras.layers.Dense(60, activation='sigmoid')\n",
        "        self.fc3 = tf.keras.layers.Dense(40, activation='sigmoid')\n",
        "        self.out = tf.keras.layers.Dense(1)\n",
        "\n",
        "    def call(self, x):\n",
        "        x = self.fc1(x)\n",
        "        x = self.fc2(x)\n",
        "        x = self.fc3(x)\n",
        "        x = self.out(x)\n",
        "        return x\n",
        "\n",
        "# Create an instance of the Keras model\n",
        "keras_model = KerasModel()\n",
        "\n",
        "# Trigger weight initialization with dummy input\n",
        "dummy_input = tf.random.uniform((1, 5))  # batch size 1, input features = 5\n",
        "_ = keras_model(dummy_input)\n",
        "\n",
        "# Print layer names and weight shapes\n",
        "for layer in keras_model.layers:\n",
        "    print(f\"{layer.name} - weights: {[w.shape for w in layer.get_weights()]}\")\n"
      ],
      "metadata": {
        "id": "ni2phAHdN14e",
        "outputId": "be7a07fb-e02f-41f3-f909-f8cf5fa7b7e3",
        "colab": {
          "base_uri": "https://localhost:8080/"
        }
      },
      "execution_count": 28,
      "outputs": [
        {
          "output_type": "stream",
          "name": "stdout",
          "text": [
            "dense_16 - weights: [(5, 61), (61,)]\n",
            "dense_17 - weights: [(61, 60), (60,)]\n",
            "dense_18 - weights: [(60, 40), (40,)]\n",
            "dense_19 - weights: [(40, 1), (1,)]\n"
          ]
        }
      ]
    },
    {
      "cell_type": "code",
      "source": [
        "for layer in keras_model.layers:\n",
        "    print(f\"{layer.name} - weights: {[w.shape for w in layer.get_weights()]}\")\n"
      ],
      "metadata": {
        "id": "XvfHnpGtQ29O",
        "outputId": "4e6f48b2-3fab-42de-b9aa-ac8347524c75",
        "colab": {
          "base_uri": "https://localhost:8080/"
        }
      },
      "execution_count": 29,
      "outputs": [
        {
          "output_type": "stream",
          "name": "stdout",
          "text": [
            "dense_16 - weights: [(5, 61), (61,)]\n",
            "dense_17 - weights: [(61, 60), (60,)]\n",
            "dense_18 - weights: [(60, 40), (40,)]\n",
            "dense_19 - weights: [(40, 1), (1,)]\n"
          ]
        }
      ]
    },
    {
      "cell_type": "code",
      "source": [
        "import onnx\n",
        "\n",
        "# Load ONNX model\n",
        "onnx_model = onnx.load(onnx_file_path)\n",
        "\n",
        "# Extract weights and biases from ONNX model\n",
        "weights = {}\n",
        "for initializer in onnx_model.graph.initializer:\n",
        "    weights[initializer.name] = onnx.numpy_helper.to_array(initializer)\n"
      ],
      "metadata": {
        "id": "cHWXMYO5N-PB"
      },
      "execution_count": 30,
      "outputs": []
    },
    {
      "cell_type": "code",
      "source": [
        "# # Assign the weights and biases to the TensorFlow model\n",
        "# keras_model.fc1.set_weights([weights['fc1.weight'].T, weights['fc1.bias']])\n",
        "# keras_model.fc2.set_weights([weights['fc2.weight'].T, weights['fc2.bias']])\n",
        "# keras_model.fc3.set_weights([weights['fc3.weight'].T, weights['fc3.bias']])\n",
        "# keras_model.out.set_weights([weights['out.weight'].T, weights['out.bias']])\n",
        "\n",
        "# # Perform a forward pass with dummy data to ensure initialization\n",
        "# dummy_input = tf.random.normal([1, 5])\n",
        "# keras_model(dummy_input)\n",
        "\n",
        "# # Save the Keras model\n",
        "# final_tf_export_path = '/content/drive/MyDrive/komegaSST_data/tf_model2'\n",
        "# tf.keras.models.save_model(keras_model, final_tf_export_path, save_format='tf')\n"
      ],
      "metadata": {
        "id": "IfZDeS8CO_Qc",
        "outputId": "dae910bc-00d8-4449-8cbb-a7b48fe9c6ed",
        "colab": {
          "base_uri": "https://localhost:8080/",
          "height": 297
        }
      },
      "execution_count": 31,
      "outputs": [
        {
          "output_type": "error",
          "ename": "ValueError",
          "evalue": "The `save_format` argument is deprecated in Keras 3. Please remove this argument and pass a file path with either `.keras` or `.h5` extension.Received: save_format=tf",
          "traceback": [
            "\u001b[0;31m---------------------------------------------------------------------------\u001b[0m",
            "\u001b[0;31mValueError\u001b[0m                                Traceback (most recent call last)",
            "\u001b[0;32m<ipython-input-31-657c8f749fda>\u001b[0m in \u001b[0;36m<cell line: 0>\u001b[0;34m()\u001b[0m\n\u001b[1;32m     11\u001b[0m \u001b[0;31m# Save the Keras model\u001b[0m\u001b[0;34m\u001b[0m\u001b[0;34m\u001b[0m\u001b[0m\n\u001b[1;32m     12\u001b[0m \u001b[0mfinal_tf_export_path\u001b[0m \u001b[0;34m=\u001b[0m \u001b[0;34m'/content/drive/MyDrive/komegaSST_data/tf_model2'\u001b[0m\u001b[0;34m\u001b[0m\u001b[0;34m\u001b[0m\u001b[0m\n\u001b[0;32m---> 13\u001b[0;31m \u001b[0mtf\u001b[0m\u001b[0;34m.\u001b[0m\u001b[0mkeras\u001b[0m\u001b[0;34m.\u001b[0m\u001b[0mmodels\u001b[0m\u001b[0;34m.\u001b[0m\u001b[0msave_model\u001b[0m\u001b[0;34m(\u001b[0m\u001b[0mkeras_model\u001b[0m\u001b[0;34m,\u001b[0m \u001b[0mfinal_tf_export_path\u001b[0m\u001b[0;34m,\u001b[0m \u001b[0msave_format\u001b[0m\u001b[0;34m=\u001b[0m\u001b[0;34m'tf'\u001b[0m\u001b[0;34m)\u001b[0m\u001b[0;34m\u001b[0m\u001b[0;34m\u001b[0m\u001b[0m\n\u001b[0m",
            "\u001b[0;32m/usr/local/lib/python3.11/dist-packages/keras/src/saving/saving_api.py\u001b[0m in \u001b[0;36msave_model\u001b[0;34m(model, filepath, overwrite, zipped, **kwargs)\u001b[0m\n\u001b[1;32m     67\u001b[0m             )\n\u001b[1;32m     68\u001b[0m         \u001b[0;32melse\u001b[0m\u001b[0;34m:\u001b[0m\u001b[0;34m\u001b[0m\u001b[0;34m\u001b[0m\u001b[0m\n\u001b[0;32m---> 69\u001b[0;31m             raise ValueError(\n\u001b[0m\u001b[1;32m     70\u001b[0m                 \u001b[0;34m\"The `save_format` argument is deprecated in Keras 3. \"\u001b[0m\u001b[0;34m\u001b[0m\u001b[0;34m\u001b[0m\u001b[0m\n\u001b[1;32m     71\u001b[0m                 \u001b[0;34m\"Please remove this argument and pass a file path with \"\u001b[0m\u001b[0;34m\u001b[0m\u001b[0;34m\u001b[0m\u001b[0m\n",
            "\u001b[0;31mValueError\u001b[0m: The `save_format` argument is deprecated in Keras 3. Please remove this argument and pass a file path with either `.keras` or `.h5` extension.Received: save_format=tf"
          ]
        }
      ]
    },
    {
      "cell_type": "code",
      "source": [],
      "metadata": {
        "id": "X1569kFCVW_3"
      },
      "execution_count": null,
      "outputs": []
    },
    {
      "cell_type": "code",
      "source": [
        "# Assign the weights and biases to the TensorFlow model\n",
        "keras_model.fc1.set_weights([weights['fc1.weight'].T, weights['fc1.bias']])\n",
        "keras_model.fc2.set_weights([weights['fc2.weight'].T, weights['fc2.bias']])\n",
        "keras_model.fc3.set_weights([weights['fc3.weight'].T, weights['fc3.bias']])\n",
        "keras_model.out.set_weights([weights['out.weight'].T, weights['out.bias']])\n",
        "\n",
        "# Perform a forward pass with dummy data to ensure initialization\n",
        "dummy_input = tf.random.normal([1, 5])\n",
        "keras_model(dummy_input)\n",
        "\n",
        "# Save to TensorFlow SavedModel format (.pb + variables/)\n",
        "tf.saved_model.save(keras_model, '/content/drive/MyDrive/komegaSST_data/tf_model2')\n"
      ],
      "metadata": {
        "id": "ISOSlZ0aSgLj"
      },
      "execution_count": 35,
      "outputs": []
    },
    {
      "cell_type": "code",
      "source": [],
      "metadata": {
        "id": "fkokCKZ7mF-9"
      },
      "execution_count": null,
      "outputs": []
    },
    {
      "cell_type": "code",
      "source": [
        "import numpy as np\n",
        "\n",
        "# Generate a sample input tensor\n",
        "input_data = np.random.randn(1, 5).astype(np.float32)\n",
        "\n",
        "# Convert the numpy array to a PyTorch tensor\n",
        "pytorch_input = torch.from_numpy(input_data)\n",
        "\n",
        "# Get the PyTorch model output\n",
        "with torch.no_grad():\n",
        "    pytorch_output = model(pytorch_input).numpy()\n",
        "\n",
        "# Load the final TensorFlow model\n",
        "tf_model_final = tf.keras.models.load_model(final_tf_export_path)\n",
        "\n",
        "# Get the TensorFlow model output\n",
        "tf_output = tf_model_final(input_data).numpy()\n",
        "\n",
        "# Compare the outputs\n",
        "print(\"PyTorch Model Output:\", pytorch_output)\n",
        "print(\"TensorFlow Model Output:\", tf_output)\n",
        "\n",
        "# Check if the outputs are close\n",
        "if np.allclose(pytorch_output, tf_output, atol=1e-12):\n",
        "    print(\"The outputs are the same within the tolerance level.\")\n",
        "else:\n",
        "    print(\"The outputs are different.\")\n"
      ],
      "metadata": {
        "colab": {
          "base_uri": "https://localhost:8080/"
        },
        "id": "iGaYdL0DmF8Z",
        "outputId": "f680c72d-f12a-4683-b9a3-81be7b0764ef"
      },
      "execution_count": null,
      "outputs": [
        {
          "output_type": "stream",
          "name": "stderr",
          "text": [
            "WARNING:tensorflow:No training configuration found in save file, so the model was *not* compiled. Compile it manually.\n"
          ]
        },
        {
          "output_type": "stream",
          "name": "stdout",
          "text": [
            "PyTorch Model Output: [[0.9564401]]\n",
            "TensorFlow Model Output: [[0.95644015]]\n",
            "The outputs are the same within the tolerance level.\n"
          ]
        }
      ]
    },
    {
      "cell_type": "code",
      "source": [],
      "metadata": {
        "id": "kalWG7GVmF6I"
      },
      "execution_count": null,
      "outputs": []
    },
    {
      "cell_type": "code",
      "source": [],
      "metadata": {
        "id": "RpKmgqZ2mF4P"
      },
      "execution_count": null,
      "outputs": []
    },
    {
      "cell_type": "code",
      "source": [],
      "metadata": {
        "id": "2smp654smF09"
      },
      "execution_count": null,
      "outputs": []
    },
    {
      "cell_type": "code",
      "source": [],
      "metadata": {
        "id": "hXkyuW1XmFyY"
      },
      "execution_count": null,
      "outputs": []
    },
    {
      "cell_type": "code",
      "source": [],
      "metadata": {
        "id": "dLiKx6TBmFvu"
      },
      "execution_count": null,
      "outputs": []
    },
    {
      "cell_type": "code",
      "source": [],
      "metadata": {
        "id": "X7QziN3SmFs6"
      },
      "execution_count": null,
      "outputs": []
    },
    {
      "cell_type": "code",
      "source": [],
      "metadata": {
        "id": "oEChje5VmFpN"
      },
      "execution_count": null,
      "outputs": []
    },
    {
      "cell_type": "code",
      "source": [
        "# import numpy as np\n",
        "# import pandas as pd\n",
        "# import matplotlib.pyplot as plt\n",
        "\n",
        "# dff = pd.read_csv(\"/content/drive/MyDrive/data_set3.csv\")\n",
        "\n",
        "# # dff.loc[dff['beta']<0.995, \"beta\"] = 1.5\n",
        "# # dff.loc[dff['beta']>1.005, \"beta\"] = 1.5\n",
        "\n",
        "\n",
        "# frames = [dff]\n",
        "# ff = []\n",
        "\n",
        "# for item in frames:\n",
        "#   xc = np.array(item['x'])\n",
        "#   yc = np.array(item['y'])\n",
        "#   b = np.array(item['beta'])\n",
        "#   ff1 = np.array(item['feature1'])\n",
        "#   ff2 = np.array(item['feature2'])\n",
        "#   ff3 = np.array(item['feature3'])\n",
        "#   ff4 = np.array(item['feature4'])\n",
        "#   ff5 = np.array(item['feature5'])\n",
        "#   ff6 = np.array(item['feature6'])\n",
        "\n",
        "#   # # Normalize x and y coordinates\n",
        "#   # min_range = -5.0\n",
        "#   # max_range = 5.0\n",
        "#   # xc = (xc - np.min(xc)) * (max_range - min_range) / (np.max(xc) - np.min(xc))\n",
        "#   # yc = (yc - np.min(yc)) * (max_range - min_range) / (np.max(yc) - np.min(yc))\n",
        "\n",
        "\n",
        "#   x1,y1,b1,f1,f2,f3,f4,f5,f6 = [[] for i in range(9)]\n",
        "#   # Filter data for the specified range of coordinates\n",
        "#   for i in range(len(xc)):\n",
        "#     if xc[i]>=-0.2 and xc[i]<=1.05:\n",
        "#       if yc[i]>=-0.15 and yc[i]<=0.20:\n",
        "#         # if (b[i]<0.995) | (b[i]>1.005):\n",
        "#           x1.append(xc[i])\n",
        "#           y1.append(yc[i])\n",
        "#           b1.append(b[i])\n",
        "#           f1.append(ff1[i])\n",
        "#           f2.append(ff2[i])\n",
        "#           f3.append(ff3[i])\n",
        "#           f4.append(ff4[i])\n",
        "#           f5.append(ff5[i])\n",
        "#           f6.append(ff6[i])\n",
        "\n",
        "#   modified_data = {\n",
        "#   'x': np.array(x1),\n",
        "#   'y': np.array(y1),\n",
        "#   'beta': np.array(b1),\n",
        "#   'feature1': np.array(f1),\n",
        "#   'feature2': np.array(f2),\n",
        "#   'feature3': np.array(f3),\n",
        "#   'feature4': np.array(f4),\n",
        "#   'feature5': np.array(f5),\n",
        "#   'feature6': np.array(f6)\n",
        "#   }\n",
        "\n",
        "\n",
        "#   ff.append(pd.DataFrame(modified_data))\n",
        "\n",
        "#   # Create a scatter plot\n",
        "#   plt.scatter(x1, y1, c=b1,  cmap= 'RdYlGn',alpha=1, marker='.',s=250)\n",
        "#   plt.colorbar(label='Feature6')\n",
        "#   plt.xlabel('X Coordinate')\n",
        "#   plt.ylabel('Y Coordinate')\n",
        "#   plt.title('Training data')\n",
        "#   plt.show()\n",
        "# ###############################################################################\n",
        "\n",
        "# dff1 = pd.concat(ff)"
      ],
      "metadata": {
        "id": "jplMhLs3gf2B"
      },
      "execution_count": null,
      "outputs": []
    },
    {
      "cell_type": "code",
      "source": [
        "# print(len(x1))"
      ],
      "metadata": {
        "id": "EdzMjwu9BfaJ"
      },
      "execution_count": null,
      "outputs": []
    },
    {
      "cell_type": "code",
      "source": [
        "# dff2 = dff1.drop(['x','y','beta'],axis=1)\n",
        "# X2 = dff2.values\n",
        "# X2 = torch.FloatTensor(X2)\n",
        "# y2 = model.forward(X2)\n",
        "# y2 = y2.detach().numpy()\n",
        "\n",
        "# # Create a scatter plot\n",
        "# plt.scatter(x1, y1, c=y2,  cmap= 'RdYlGn',alpha=1, marker='.',s=250)\n",
        "# plt.colorbar(label='Beta Field')\n",
        "# plt.xlabel('X Coordinate')\n",
        "# plt.ylabel('Y Coordinate')\n",
        "# plt.title('Reconstructed beta field using trained weights')\n",
        "# plt.show()\n"
      ],
      "metadata": {
        "id": "j9U26rnsgkbo"
      },
      "execution_count": null,
      "outputs": []
    },
    {
      "cell_type": "code",
      "source": [
        "# X3 = dff2.values\n",
        "# X3 = np.array(X3,dtype=np.float32)\n",
        "# y3 = tf_model_final.predict(X3)"
      ],
      "metadata": {
        "id": "iZpZgIZ7oMI9"
      },
      "execution_count": null,
      "outputs": []
    },
    {
      "cell_type": "code",
      "source": [
        "# # Create a scatter plot\n",
        "# plt.scatter(x1, y1, c=y3,  cmap= 'bwr',alpha=1, marker='.',s=250)\n",
        "# plt.colorbar(label='Beta Field')\n",
        "# plt.xlabel('X Coordinate')\n",
        "# plt.ylabel('Y Coordinate')\n",
        "# plt.title('Reconstructed beta field using trained weights')\n",
        "# plt.show()"
      ],
      "metadata": {
        "id": "icvHw3hsp3mV"
      },
      "execution_count": null,
      "outputs": []
    },
    {
      "cell_type": "code",
      "source": [
        "# import numpy as np\n",
        "\n",
        "# def check_arrays_close(arr1, arr2, tolerance=1e-32):\n",
        "#     if np.allclose(arr1, arr2, atol=tolerance):\n",
        "#         print(\"The arrays are the same within the tolerance level.\")\n",
        "#     else:\n",
        "#         print(\"The arrays are different within the tolerance level.\")\n",
        "\n",
        "# def check_arrays_equal(arr1, arr2):\n",
        "#     if np.array_equal(arr1, arr2):\n",
        "#         print(\"The arrays are exactly the same.\")\n",
        "#     else:\n",
        "#         print(\"The arrays are different.\")\n",
        "\n",
        "# def find_differences(arr1, arr2):\n",
        "#     if arr1.shape != arr2.shape:\n",
        "#         print(\"The arrays have different shapes and cannot be compared element-wise.\")\n",
        "#         return\n",
        "\n",
        "#     diff_indices = np.where(arr1 != arr2)\n",
        "#     if diff_indices[0].size == 0:\n",
        "#         print(\"The arrays are exactly the same.\")\n",
        "#     else:\n",
        "#         print(\"The arrays are different at the following indices:\")\n",
        "#         for index in zip(*diff_indices):\n",
        "#             print(f\"Index {index}: arr1 = {arr1[index]}, arr2 = {arr2[index]}\")\n",
        "\n",
        "# print(\"Check if arrays are close:\")\n",
        "# check_arrays_close(y2, y3)\n",
        "# print(\"\\nCheck if arrays are exactly equal:\")\n",
        "# check_arrays_equal(y2, y3)\n",
        "# print(\"\\nFind differences:\")\n",
        "# find_differences(y2, y3)\n"
      ],
      "metadata": {
        "id": "rkmFyXrEp8Vv"
      },
      "execution_count": null,
      "outputs": []
    },
    {
      "cell_type": "code",
      "source": [],
      "metadata": {
        "id": "lRB4R63WIgcQ"
      },
      "execution_count": null,
      "outputs": []
    }
  ]
}