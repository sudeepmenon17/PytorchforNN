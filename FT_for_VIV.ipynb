{
  "nbformat": 4,
  "nbformat_minor": 0,
  "metadata": {
    "colab": {
      "provenance": [],
      "authorship_tag": "ABX9TyOi/yELrcagkoWnGi9BdwmG",
      "include_colab_link": true
    },
    "kernelspec": {
      "name": "python3",
      "display_name": "Python 3"
    },
    "language_info": {
      "name": "python"
    }
  },
  "cells": [
    {
      "cell_type": "markdown",
      "metadata": {
        "id": "view-in-github",
        "colab_type": "text"
      },
      "source": [
        "<a href=\"https://colab.research.google.com/github/sudeepmenon17/PytorchforNN/blob/main/FT_for_VIV.ipynb\" target=\"_parent\"><img src=\"https://colab.research.google.com/assets/colab-badge.svg\" alt=\"Open In Colab\"/></a>"
      ]
    },
    {
      "cell_type": "code",
      "execution_count": 1,
      "metadata": {
        "colab": {
          "base_uri": "https://localhost:8080/"
        },
        "id": "82qmi-MrPhwc",
        "outputId": "3ee96c7d-6cde-467d-991a-40b8755a4446"
      },
      "outputs": [
        {
          "output_type": "stream",
          "name": "stdout",
          "text": [
            "Requirement already satisfied: google-auth in /usr/local/lib/python3.10/dist-packages (2.27.0)\n",
            "Requirement already satisfied: cachetools<6.0,>=2.0.0 in /usr/local/lib/python3.10/dist-packages (from google-auth) (5.5.0)\n",
            "Requirement already satisfied: pyasn1-modules>=0.2.1 in /usr/local/lib/python3.10/dist-packages (from google-auth) (0.4.1)\n",
            "Requirement already satisfied: rsa<5,>=3.1.4 in /usr/local/lib/python3.10/dist-packages (from google-auth) (4.9)\n",
            "Requirement already satisfied: pyasn1<0.7.0,>=0.4.6 in /usr/local/lib/python3.10/dist-packages (from pyasn1-modules>=0.2.1->google-auth) (0.6.1)\n",
            "Mounted at /content/drive\n"
          ]
        }
      ],
      "source": [
        "!pip install google-auth\n",
        "from google.colab import auth\n",
        "from google.colab import drive\n",
        "\n",
        "drive.mount('/content/drive')\n",
        "\n"
      ]
    },
    {
      "cell_type": "code",
      "source": [
        "import numpy as np\n",
        "from scipy.interpolate import griddata\n",
        "from scipy.io import loadmat, savemat\n",
        "\n",
        "# Load the .mat files\n",
        "vor_data = loadmat('/content/drive/MyDrive/Re500_RV5_D0p9/VORTALL.mat')\n",
        "time_data = loadmat('/content/drive/MyDrive/Re500_RV5_D0p9/Time.mat')\n",
        "points_data = loadmat('/content/drive/MyDrive/Re500_RV5_D0p9/points.mat')\n",
        "cccool_data = loadmat('/content/drive/MyDrive/Re500_RV5_D0p9/CCcool.mat')\n",
        "# Extract necessary variables\n",
        "VORTALL = vor_data['VORTALL']  # Vorticity data\n",
        "Time = time_data['Time'].flatten()  # Time vector (flatten to 1D)\n",
        "points = points_data['points']  # Points array\n",
        "CC = cccool_data['CC']  # Colormap"
      ],
      "metadata": {
        "id": "DJkqypsrPnlu"
      },
      "execution_count": 2,
      "outputs": []
    },
    {
      "cell_type": "code",
      "source": [
        "import numpy as np\n",
        "import matplotlib.pyplot as plt\n",
        "from scipy.io import loadmat\n",
        "from scipy.signal.windows import hamming\n",
        "from matplotlib.colors import ListedColormap\n",
        "import os\n",
        "\n",
        "# Load data\n",
        "file_path = \"VortZ_interp.mat\"\n",
        "data = loadmat(file_path)\n",
        "\n",
        "Xnew = data['Xnew']  # Vorticity data\n",
        "nxi = int(data['nxi'][0][0])  # Number of x grid points\n",
        "nyi = int(data['nyi'][0][0])  # Number of y grid points\n",
        "pxnew = data['pxnew']  # x-coordinates\n",
        "pynew = data['pynew']  # y-coordinates\n",
        "Time = data['Time'].flatten()  # Time array\n",
        "\n",
        "# Load custom colormap\n",
        "cccool_file = \"CCcool.mat\"\n",
        "cccool_data = loadmat(cccool_file)['CC']\n",
        "custom_cmap = ListedColormap(cccool_data)\n",
        "\n",
        "# Parameters\n",
        "f_values = [0.2 * i for i in range(1, 5)]  # Frequencies to analyze\n",
        "It0 = 0  # Initial time index\n",
        "Dt = 1  # Time step\n",
        "nx = nxi  # Spatial dimensions\n",
        "ny = nyi\n",
        "\n",
        "# Time and frequency calculations\n",
        "L = len(Time)\n",
        "dt = Time[1] - Time[0]\n",
        "Fs = 1 / (dt * 0.2)  # Sampling frequency\n",
        "f = Fs * np.arange(0, L // 2 + 1) / L  # Frequencies\n",
        "\n",
        "# Create directory for saving results\n",
        "os.makedirs(\"Mode_Data\", exist_ok=True)\n",
        "\n",
        "def custom_dft(data, freq, dt, windowing=True):\n",
        "    \"\"\"\n",
        "    Perform a custom Discrete Fourier Transform (DFT) on a specific frequency.\n",
        "    \"\"\"\n",
        "    n = len(data)\n",
        "    t = np.arange(n) * dt\n",
        "\n",
        "    # Apply Hamming window\n",
        "    if windowing:\n",
        "        window = hamming(n)\n",
        "        dataw = data * window\n",
        "        k = 2  # Compensation factor\n",
        "    else:\n",
        "        dataw = data\n",
        "        k = 1\n",
        "\n",
        "    # Perform DFT\n",
        "    temp = np.sum(dataw * np.exp(-2j * np.pi * freq * t))\n",
        "    amp = k * np.abs(temp) * 2 / n  # Amplitude\n",
        "    phase = np.angle(temp, deg=True)  # Phase in degrees\n",
        "    return amp, phase\n",
        "\n",
        "# Process each frequency\n",
        "for freq_idx, f1 in enumerate(f_values):\n",
        "    print(f\"Processing frequency f1 = {f1}...\")\n",
        "\n",
        "    # Compute amplitudes for each grid point\n",
        "    P2 = np.zeros((nx * ny, 1))\n",
        "    pha = np.zeros((nx * ny, 1))\n",
        "\n",
        "    for i in range(nx * ny):\n",
        "        vorticity_data = Xnew[i, It0::Dt]  # Extract time series for grid point\n",
        "        P2[i, 0], pha[i, 0] = custom_dft(vorticity_data, f1, dt, windowing=True)\n",
        "\n",
        "    # Prepare mode for visualization\n",
        "    Phi = P2[:, 0]\n",
        "    vortmax = np.max(np.abs(Phi))\n",
        "    VORTlims = [-vortmax, vortmax]\n",
        "\n",
        "    # Reshape and plot mode\n",
        "    Phi_reshaped = Phi.reshape((ny, nx))\n",
        "    plt.figure(figsize=(10, 6))\n",
        "    plt.imshow(Phi_reshaped, extent=[pxnew.min(), pxnew.max(), pynew.min(), pynew.max()],\n",
        "               vmin=VORTlims[0], vmax=VORTlims[1], cmap=custom_cmap, origin='lower')\n",
        "    plt.colorbar(label='Amplitude')\n",
        "    plt.title(f'DFT Mode for f1 = {f1}')\n",
        "    plt.xlabel('X')\n",
        "    plt.ylabel('Y')\n",
        "    plt.axis('equal')\n",
        "    plt.tight_layout()\n",
        "    plt.show()\n",
        "\n",
        "    # Save data\n",
        "    output_file = f\"Mode_Data/dft_St_{f1:.2f}.csv\"\n",
        "    np.savetxt(output_file, np.column_stack((pxnew, pynew, Phi)), delimiter=\",\",\n",
        "               header=\"px,py,Phi\", comments=\"\")"
      ],
      "metadata": {
        "id": "VgwqH4ZHPq0n"
      },
      "execution_count": null,
      "outputs": []
    }
  ]
}