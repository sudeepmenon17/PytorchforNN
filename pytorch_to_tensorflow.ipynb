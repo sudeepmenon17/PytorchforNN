{
  "nbformat": 4,
  "nbformat_minor": 0,
  "metadata": {
    "colab": {
      "provenance": [],
      "authorship_tag": "ABX9TyPahyTh6E960Y1MTM49RyJS",
      "include_colab_link": true
    },
    "kernelspec": {
      "name": "python3",
      "display_name": "Python 3"
    },
    "language_info": {
      "name": "python"
    }
  },
  "cells": [
    {
      "cell_type": "markdown",
      "metadata": {
        "id": "view-in-github",
        "colab_type": "text"
      },
      "source": [
        "<a href=\"https://colab.research.google.com/github/sudeepmenon17/PytorchforNN/blob/main/pytorch_to_tensorflow.ipynb\" target=\"_parent\"><img src=\"https://colab.research.google.com/assets/colab-badge.svg\" alt=\"Open In Colab\"/></a>"
      ]
    },
    {
      "cell_type": "code",
      "source": [
        "!pip install google-auth\n",
        "from google.colab import auth\n",
        "from google.colab import drive\n",
        "\n",
        "drive.mount('/content/drive')"
      ],
      "metadata": {
        "colab": {
          "base_uri": "https://localhost:8080/"
        },
        "id": "RukpfG4b1-CF",
        "outputId": "9713fee6-23c5-4b85-a3f5-16cb0842bf27"
      },
      "execution_count": null,
      "outputs": [
        {
          "output_type": "stream",
          "name": "stdout",
          "text": [
            "Requirement already satisfied: google-auth in /usr/local/lib/python3.10/dist-packages (2.27.0)\n",
            "Requirement already satisfied: cachetools<6.0,>=2.0.0 in /usr/local/lib/python3.10/dist-packages (from google-auth) (5.3.3)\n",
            "Requirement already satisfied: pyasn1-modules>=0.2.1 in /usr/local/lib/python3.10/dist-packages (from google-auth) (0.4.0)\n",
            "Requirement already satisfied: rsa<5,>=3.1.4 in /usr/local/lib/python3.10/dist-packages (from google-auth) (4.9)\n",
            "Requirement already satisfied: pyasn1<0.7.0,>=0.4.6 in /usr/local/lib/python3.10/dist-packages (from pyasn1-modules>=0.2.1->google-auth) (0.6.0)\n",
            "Drive already mounted at /content/drive; to attempt to forcibly remount, call drive.mount(\"/content/drive\", force_remount=True).\n"
          ]
        }
      ]
    },
    {
      "cell_type": "code",
      "execution_count": null,
      "metadata": {
        "id": "HbQIUW7Pgkql",
        "outputId": "2bb55988-99b1-4bb4-8f79-4625d43c608f",
        "colab": {
          "base_uri": "https://localhost:8080/"
        }
      },
      "outputs": [
        {
          "output_type": "stream",
          "name": "stdout",
          "text": [
            "Requirement already satisfied: onnx in /usr/local/lib/python3.10/dist-packages (1.16.1)\n",
            "Requirement already satisfied: numpy>=1.20 in /usr/local/lib/python3.10/dist-packages (from onnx) (1.25.2)\n",
            "Requirement already satisfied: protobuf>=3.20.2 in /usr/local/lib/python3.10/dist-packages (from onnx) (3.20.3)\n",
            "Requirement already satisfied: onnx_tf in /usr/local/lib/python3.10/dist-packages (1.10.0)\n",
            "Requirement already satisfied: onnx>=1.10.2 in /usr/local/lib/python3.10/dist-packages (from onnx_tf) (1.16.1)\n",
            "Requirement already satisfied: PyYAML in /usr/local/lib/python3.10/dist-packages (from onnx_tf) (6.0.1)\n",
            "Requirement already satisfied: tensorflow-addons in /usr/local/lib/python3.10/dist-packages (from onnx_tf) (0.23.0)\n",
            "Requirement already satisfied: numpy>=1.20 in /usr/local/lib/python3.10/dist-packages (from onnx>=1.10.2->onnx_tf) (1.25.2)\n",
            "Requirement already satisfied: protobuf>=3.20.2 in /usr/local/lib/python3.10/dist-packages (from onnx>=1.10.2->onnx_tf) (3.20.3)\n",
            "Requirement already satisfied: packaging in /usr/local/lib/python3.10/dist-packages (from tensorflow-addons->onnx_tf) (24.1)\n",
            "Requirement already satisfied: typeguard<3.0.0,>=2.7 in /usr/local/lib/python3.10/dist-packages (from tensorflow-addons->onnx_tf) (2.13.3)\n"
          ]
        }
      ],
      "source": [
        "  # !pip install torchvision\n",
        "!pip install onnx\n",
        "  # !pip install tensorflow\n",
        "!pip install onnx_tf\n",
        "import torch\n",
        "import torch.onnx\n",
        "import torch.nn as nn\n",
        "import torch.nn.functional as F\n",
        "from torch.autograd import Variable\n",
        "import onnx\n",
        "from onnx_tf.backend import prepare\n",
        "import tensorflow as tf"
      ]
    },
    {
      "cell_type": "code",
      "source": [
        "# # Define the Model class\n",
        "# class Model(nn.Module):\n",
        "#     def __init__(self, in_features=5, h1=61, h2=60, out_features=1):\n",
        "#         super(Model, self).__init__()\n",
        "#         self.fc1 = nn.Linear(in_features, h1)\n",
        "#         self.fc2 = nn.Linear(h1, h2)\n",
        "#         self.out = nn.Linear(h2, out_features)\n",
        "#         self.sigmoid = nn.Sigmoid()\n",
        "\n",
        "#     def forward(self, x):\n",
        "#         x = self.sigmoid(self.fc1(x))\n",
        "#         x = self.sigmoid(self.fc2(x))\n",
        "#         x = self.out(x)\n",
        "#         return x"
      ],
      "metadata": {
        "id": "EIHVJHxizvOw"
      },
      "execution_count": null,
      "outputs": []
    },
    {
      "cell_type": "code",
      "source": [],
      "metadata": {
        "id": "tl38VN5Gz4iB"
      },
      "execution_count": null,
      "outputs": []
    },
    {
      "cell_type": "code",
      "source": [
        "# # Step 1: Export PyTorch model to ONNX format\n",
        "# def export_pytorch_to_onnx(model, dummy_input, onnx_file_path):\n",
        "#     torch.onnx.export(\n",
        "#         model,\n",
        "#         dummy_input,\n",
        "#         onnx_file_path,\n",
        "#         export_params=True,\n",
        "#         opset_version=11,\n",
        "#         do_constant_folding=True,\n",
        "#         input_names=['input'],\n",
        "#         output_names=['output']\n",
        "#     )\n",
        "\n",
        "# # Step 2: Convert ONNX model to TensorFlow SavedModel format\n",
        "# def convert_onnx_to_tf(onnx_file_path, tf_export_path):\n",
        "#     onnx_model = onnx.load(onnx_file_path)\n",
        "#     tf_rep = prepare(onnx_model)\n",
        "#     tf_rep.export_graph(tf_export_path)\n",
        "\n",
        "# # Load the saved PyTorch model\n",
        "# model = Model()\n",
        "# model.load_state_dict(torch.load('/content/drive/MyDrive/airfoil_model.pt'))\n",
        "# model.eval()\n",
        "\n",
        "# # Create a dummy input tensor with the same shape as your input data\n",
        "# dummy_input = Variable(torch.randn(1, 5))  # Adjust shape as necessary\n",
        "\n",
        "# # Define file paths\n",
        "# onnx_file_path = \"/content/drive/MyDrive/airfoil_model.onnx\"\n",
        "# tf_export_path = \"/content/drive/MyDrive/airfoil_model_tf\"\n",
        "\n",
        "# # Perform the conversion\n",
        "# export_pytorch_to_onnx(model, dummy_input, onnx_file_path)\n",
        "# convert_onnx_to_tf(onnx_file_path, tf_export_path)\n",
        "\n",
        "# print(f\"Model successfully converted to TensorFlow SavedModel format and saved in {tf_export_path} directory\")\n"
      ],
      "metadata": {
        "id": "9cQDM0Ddg4-d"
      },
      "execution_count": null,
      "outputs": []
    },
    {
      "cell_type": "code",
      "source": [
        "\n",
        "import torch\n",
        "import torch.onnx\n",
        "import torch.nn as nn\n",
        "import torch.nn.functional as F\n",
        "from torch.autograd import Variable\n",
        "import onnx\n",
        "from onnx_tf.backend import prepare\n",
        "import tensorflow as tf\n",
        "\n",
        "# Define the PyTorch model class\n",
        "class Model(nn.Module):\n",
        "    def __init__(self, in_features=6, h1=61, h2=60, out_features=1):\n",
        "        super(Model, self).__init__()\n",
        "        self.fc1 = nn.Linear(in_features, h1)\n",
        "        self.fc2 = nn.Linear(h1, h2)\n",
        "        self.out = nn.Linear(h2, out_features)\n",
        "        self.sigmoid = nn.Sigmoid()\n",
        "\n",
        "    def forward(self, x):\n",
        "        x = self.sigmoid(self.fc1(x))\n",
        "        x = self.sigmoid(self.fc2(x))\n",
        "        x = self.out(x)\n",
        "        return x\n",
        "\n",
        "# Step 1: Export PyTorch model to ONNX format\n",
        "def export_pytorch_to_onnx(model, dummy_input, onnx_file_path):\n",
        "    torch.onnx.export(\n",
        "        model,\n",
        "        dummy_input,\n",
        "        onnx_file_path,\n",
        "        export_params=True,\n",
        "        opset_version=11,\n",
        "        do_constant_folding=True,\n",
        "        input_names=['input'],\n",
        "        output_names=['output']\n",
        "    )\n",
        "\n",
        "# Step 2: Convert ONNX model to TensorFlow SavedModel format\n",
        "def convert_onnx_to_tf(onnx_file_path, tf_export_path):\n",
        "    onnx_model = onnx.load(onnx_file_path)\n",
        "    tf_rep = prepare(onnx_model)\n",
        "    tf_rep.export_graph(tf_export_path)\n",
        "\n",
        "# Step 3: Load the TensorFlow model and re-save it using tf.keras.models.save_model()\n",
        "def resave_tf_model(tf_export_path, final_tf_export_path):\n",
        "    class KerasModel(tf.keras.Model):\n",
        "        def __init__(self):\n",
        "            super(KerasModel, self).__init__()\n",
        "            self.fc1 = tf.keras.layers.Dense(61, activation='sigmoid')\n",
        "            self.fc2 = tf.keras.layers.Dense(60, activation='sigmoid')\n",
        "            self.out = tf.keras.layers.Dense(1)\n",
        "\n",
        "        def call(self, x):\n",
        "            x = self.fc1(x)\n",
        "            x = self.fc2(x)\n",
        "            x = self.out(x)\n",
        "            return x\n",
        "\n",
        "    # Load the TensorFlow SavedModel\n",
        "    model = tf.saved_model.load(tf_export_path)\n",
        "\n",
        "    # Create an instance of the Keras model\n",
        "    keras_model = KerasModel()\n",
        "\n",
        "    # Build the Keras model with the input shape\n",
        "    keras_model.build(input_shape=(None, 6))\n",
        "\n",
        "    # Perform a forward pass with dummy data to ensure initialization\n",
        "    dummy_input = tf.random.normal([1, 6])\n",
        "    keras_model(dummy_input)\n",
        "\n",
        "    # Save the Keras model\n",
        "    tf.keras.models.save_model(keras_model, final_tf_export_path)\n",
        "\n",
        "# Load the saved PyTorch model\n",
        "model = Model()\n",
        "model.load_state_dict(torch.load('/content/drive/MyDrive/airfoil_model.pt'))\n",
        "model.eval()\n",
        "\n",
        "# Create a dummy input tensor with the same shape as your input data\n",
        "dummy_input = Variable(torch.randn(1, 6))  # Adjust shape as necessary\n",
        "\n",
        "# Define file paths\n",
        "onnx_file_path = \"/content/drive/MyDrive/airfoil_model.onnx\"\n",
        "tf_export_path = \"/content/drive/MyDrive/airfoil_model_tf\"\n",
        "final_tf_export_path = \"/content/drive/MyDrive/airfoil_model_tf_final\"\n",
        "\n",
        "# Perform the conversion\n",
        "export_pytorch_to_onnx(model, dummy_input, onnx_file_path)\n",
        "convert_onnx_to_tf(onnx_file_path, tf_export_path)\n",
        "resave_tf_model(tf_export_path, final_tf_export_path)\n",
        "\n",
        "print(f\"Model successfully converted to TensorFlow SavedModel format and saved in {final_tf_export_path} directory\")\n"
      ],
      "metadata": {
        "colab": {
          "base_uri": "https://localhost:8080/"
        },
        "id": "6Frq9yCmLQly",
        "outputId": "88d85831-3564-4430-a72a-666d7217c90f"
      },
      "execution_count": null,
      "outputs": [
        {
          "output_type": "stream",
          "name": "stdout",
          "text": [
            "Model successfully converted to TensorFlow SavedModel format and saved in /content/drive/MyDrive/airfoil_model_tf_final directory\n"
          ]
        }
      ]
    },
    {
      "cell_type": "code",
      "source": [],
      "metadata": {
        "id": "1qZrxsaKL2pJ"
      },
      "execution_count": null,
      "outputs": []
    },
    {
      "cell_type": "code",
      "source": [],
      "metadata": {
        "id": "5chownw4L3W2"
      },
      "execution_count": null,
      "outputs": []
    }
  ]
}