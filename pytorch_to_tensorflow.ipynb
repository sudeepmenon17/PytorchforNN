{
  "nbformat": 4,
  "nbformat_minor": 0,
  "metadata": {
    "colab": {
      "provenance": [],
      "authorship_tag": "ABX9TyNY+LIkrHFI7Tv6kQdBSCc7",
      "include_colab_link": true
    },
    "kernelspec": {
      "name": "python3",
      "display_name": "Python 3"
    },
    "language_info": {
      "name": "python"
    }
  },
  "cells": [
    {
      "cell_type": "markdown",
      "metadata": {
        "id": "view-in-github",
        "colab_type": "text"
      },
      "source": [
        "<a href=\"https://colab.research.google.com/github/sudeepmenon17/PytorchforNN/blob/main/pytorch_to_tensorflow.ipynb\" target=\"_parent\"><img src=\"https://colab.research.google.com/assets/colab-badge.svg\" alt=\"Open In Colab\"/></a>"
      ]
    },
    {
      "cell_type": "code",
      "source": [
        "!pip install google-auth\n",
        "from google.colab import auth\n",
        "from google.colab import drive\n",
        "\n",
        "drive.mount('/content/drive')"
      ],
      "metadata": {
        "id": "RukpfG4b1-CF",
        "outputId": "90d5ad98-509f-4682-db31-8a73dffab1e3",
        "colab": {
          "base_uri": "https://localhost:8080/"
        }
      },
      "execution_count": 6,
      "outputs": [
        {
          "output_type": "stream",
          "name": "stdout",
          "text": [
            "Requirement already satisfied: google-auth in /usr/local/lib/python3.10/dist-packages (2.27.0)\n",
            "Requirement already satisfied: cachetools<6.0,>=2.0.0 in /usr/local/lib/python3.10/dist-packages (from google-auth) (5.3.3)\n",
            "Requirement already satisfied: pyasn1-modules>=0.2.1 in /usr/local/lib/python3.10/dist-packages (from google-auth) (0.4.0)\n",
            "Requirement already satisfied: rsa<5,>=3.1.4 in /usr/local/lib/python3.10/dist-packages (from google-auth) (4.9)\n",
            "Requirement already satisfied: pyasn1<0.7.0,>=0.4.6 in /usr/local/lib/python3.10/dist-packages (from pyasn1-modules>=0.2.1->google-auth) (0.6.0)\n",
            "Mounted at /content/drive\n"
          ]
        }
      ]
    },
    {
      "cell_type": "code",
      "execution_count": 7,
      "metadata": {
        "id": "HbQIUW7Pgkql"
      },
      "outputs": [],
      "source": [
        "  # !pip install torchvision\n",
        "  # !pip install onnx\n",
        "  # !pip install tensorflow\n",
        "  # !pip install onnx_tf\n",
        "import torch\n",
        "import torch.onnx\n",
        "import torch.nn as nn\n",
        "import onnx\n",
        "from onnx_tf.backend import prepare"
      ]
    },
    {
      "cell_type": "code",
      "source": [
        "# Create a Model class\n",
        "class Model(nn.Module):\n",
        "  def __init__(self,in_features=6, h1 = 61, h2 = 60, h3=40, out_features=1):\n",
        "    super().__init__()\n",
        "    self.fc1 = nn.Linear(in_features,h1)\n",
        "    self.dropout1 = nn.Dropout(0.05)\n",
        "    self.fc2 = nn.Linear(h1,h2)\n",
        "    self.dropout2 = nn.Dropout(0.05)\n",
        "    self.fc3 = nn.Linear(h2,h3)\n",
        "    # self.dropout3 = nn.Dropout(0.25)\n",
        "    self.out = nn.Linear(h3,out_features)\n",
        "\n",
        "  def forward(self,x):\n",
        "    x = F.sigmoid(self.fc1(x))\n",
        "    # x = self.dropout1(x)\n",
        "    x = F.sigmoid(self.fc2(x))\n",
        "    # x = self.dropout2(x)\n",
        "    x = F.sigmoid(self.fc3(x))\n",
        "    # x = self.dropout3(x)\n",
        "    x = self.out(x)\n",
        "\n",
        "    return x"
      ],
      "metadata": {
        "id": "EIHVJHxizvOw"
      },
      "execution_count": 8,
      "outputs": []
    },
    {
      "cell_type": "code",
      "source": [],
      "metadata": {
        "id": "tl38VN5Gz4iB"
      },
      "execution_count": 8,
      "outputs": []
    },
    {
      "cell_type": "code",
      "source": [
        "import torch\n",
        "import torch.onnx\n",
        "import torchvision.models as models\n",
        "import onnx\n",
        "from onnx_tf.backend import prepare\n",
        "\n",
        "# Step 1: Export PyTorch model to ONNX format\n",
        "def export_pytorch_to_onnx(model, dummy_input, onnx_file_path):\n",
        "    torch.onnx.export(model, dummy_input, onnx_file_path, export_params=True, opset_version=11)\n",
        "\n",
        "# Step 2: Convert ONNX model to TensorFlow SavedModel format\n",
        "def convert_onnx_to_tf(onnx_file_path, tf_export_path):\n",
        "    onnx_model = onnx.load(onnx_file_path)\n",
        "    tf_rep = prepare(onnx_model)\n",
        "    tf_rep.export_graph(tf_export_path)\n",
        "\n",
        "\n",
        "# Load the Saved Pytorch Model\n",
        "model = Model()\n",
        "model.load_state_dict(torch.load('/content/drive/MyDrive/airfoil_model.pt'))\n",
        "model.eval()\n",
        "\n",
        "# Create a dummy input tensor with the same shape as your input data\n",
        "dummy_input = torch.randn(1,6)  # Adjust shape as necessary\n",
        "\n",
        "# Define file paths\n",
        "onnx_file_path = \"/content/drive/MyDrive/airfoil_model.onnx\"\n",
        "tf_export_path = \"/content/drive/MyDrive/airfoil_model_tf\"\n",
        "\n",
        "# Perform the conversion\n",
        "export_pytorch_to_onnx(model, dummy_input, onnx_file_path)\n",
        "convert_onnx_to_tf(onnx_file_path, tf_export_path)\n",
        "\n",
        "print(f\"Model successfully converted to TensorFlow SavedModel format and saved in {tf_export_path} directory\")\n"
      ],
      "metadata": {
        "id": "9cQDM0Ddg4-d",
        "outputId": "fbe3c582-ff1d-48af-9c75-affe17ec912b",
        "colab": {
          "base_uri": "https://localhost:8080/",
          "height": 383
        }
      },
      "execution_count": 9,
      "outputs": [
        {
          "output_type": "error",
          "ename": "RuntimeError",
          "evalue": "Error(s) in loading state_dict for Model:\n\tMissing key(s) in state_dict: \"fc3.weight\", \"fc3.bias\". \n\tsize mismatch for out.weight: copying a param with shape torch.Size([1, 60]) from checkpoint, the shape in current model is torch.Size([1, 40]).",
          "traceback": [
            "\u001b[0;31m---------------------------------------------------------------------------\u001b[0m",
            "\u001b[0;31mRuntimeError\u001b[0m                              Traceback (most recent call last)",
            "\u001b[0;32m<ipython-input-9-f5c644fd0859>\u001b[0m in \u001b[0;36m<cell line: 20>\u001b[0;34m()\u001b[0m\n\u001b[1;32m     18\u001b[0m \u001b[0;31m# Load the Saved Pytorch Model\u001b[0m\u001b[0;34m\u001b[0m\u001b[0;34m\u001b[0m\u001b[0m\n\u001b[1;32m     19\u001b[0m \u001b[0mmodel\u001b[0m \u001b[0;34m=\u001b[0m \u001b[0mModel\u001b[0m\u001b[0;34m(\u001b[0m\u001b[0;34m)\u001b[0m\u001b[0;34m\u001b[0m\u001b[0;34m\u001b[0m\u001b[0m\n\u001b[0;32m---> 20\u001b[0;31m \u001b[0mmodel\u001b[0m\u001b[0;34m.\u001b[0m\u001b[0mload_state_dict\u001b[0m\u001b[0;34m(\u001b[0m\u001b[0mtorch\u001b[0m\u001b[0;34m.\u001b[0m\u001b[0mload\u001b[0m\u001b[0;34m(\u001b[0m\u001b[0;34m'/content/drive/MyDrive/airfoil_model.pt'\u001b[0m\u001b[0;34m)\u001b[0m\u001b[0;34m)\u001b[0m\u001b[0;34m\u001b[0m\u001b[0;34m\u001b[0m\u001b[0m\n\u001b[0m\u001b[1;32m     21\u001b[0m \u001b[0mmodel\u001b[0m\u001b[0;34m.\u001b[0m\u001b[0meval\u001b[0m\u001b[0;34m(\u001b[0m\u001b[0;34m)\u001b[0m\u001b[0;34m\u001b[0m\u001b[0;34m\u001b[0m\u001b[0m\n\u001b[1;32m     22\u001b[0m \u001b[0;34m\u001b[0m\u001b[0m\n",
            "\u001b[0;32m/usr/local/lib/python3.10/dist-packages/torch/nn/modules/module.py\u001b[0m in \u001b[0;36mload_state_dict\u001b[0;34m(self, state_dict, strict, assign)\u001b[0m\n\u001b[1;32m   2187\u001b[0m \u001b[0;34m\u001b[0m\u001b[0m\n\u001b[1;32m   2188\u001b[0m         \u001b[0;32mif\u001b[0m \u001b[0mlen\u001b[0m\u001b[0;34m(\u001b[0m\u001b[0merror_msgs\u001b[0m\u001b[0;34m)\u001b[0m \u001b[0;34m>\u001b[0m \u001b[0;36m0\u001b[0m\u001b[0;34m:\u001b[0m\u001b[0;34m\u001b[0m\u001b[0;34m\u001b[0m\u001b[0m\n\u001b[0;32m-> 2189\u001b[0;31m             raise RuntimeError('Error(s) in loading state_dict for {}:\\n\\t{}'.format(\n\u001b[0m\u001b[1;32m   2190\u001b[0m                                self.__class__.__name__, \"\\n\\t\".join(error_msgs)))\n\u001b[1;32m   2191\u001b[0m         \u001b[0;32mreturn\u001b[0m \u001b[0m_IncompatibleKeys\u001b[0m\u001b[0;34m(\u001b[0m\u001b[0mmissing_keys\u001b[0m\u001b[0;34m,\u001b[0m \u001b[0munexpected_keys\u001b[0m\u001b[0;34m)\u001b[0m\u001b[0;34m\u001b[0m\u001b[0;34m\u001b[0m\u001b[0m\n",
            "\u001b[0;31mRuntimeError\u001b[0m: Error(s) in loading state_dict for Model:\n\tMissing key(s) in state_dict: \"fc3.weight\", \"fc3.bias\". \n\tsize mismatch for out.weight: copying a param with shape torch.Size([1, 60]) from checkpoint, the shape in current model is torch.Size([1, 40])."
          ]
        }
      ]
    }
  ]
}