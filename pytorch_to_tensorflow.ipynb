{
  "nbformat": 4,
  "nbformat_minor": 0,
  "metadata": {
    "colab": {
      "provenance": [],
      "authorship_tag": "ABX9TyOXxsLNTOeOXxmOJ4pnZDdR",
      "include_colab_link": true
    },
    "kernelspec": {
      "name": "python3",
      "display_name": "Python 3"
    },
    "language_info": {
      "name": "python"
    }
  },
  "cells": [
    {
      "cell_type": "markdown",
      "metadata": {
        "id": "view-in-github",
        "colab_type": "text"
      },
      "source": [
        "<a href=\"https://colab.research.google.com/github/sudeepmenon17/PytorchforNN/blob/main/pytorch_to_tensorflow.ipynb\" target=\"_parent\"><img src=\"https://colab.research.google.com/assets/colab-badge.svg\" alt=\"Open In Colab\"/></a>"
      ]
    },
    {
      "cell_type": "code",
      "source": [
        "!pip install google-auth\n",
        "from google.colab import auth\n",
        "from google.colab import drive\n",
        "\n",
        "drive.mount('/content/drive')"
      ],
      "metadata": {
        "colab": {
          "base_uri": "https://localhost:8080/"
        },
        "id": "RukpfG4b1-CF",
        "outputId": "12a24a26-635a-4013-8c0a-83f0769d7de6"
      },
      "execution_count": 31,
      "outputs": [
        {
          "output_type": "stream",
          "name": "stdout",
          "text": [
            "Requirement already satisfied: google-auth in /usr/local/lib/python3.10/dist-packages (2.27.0)\n",
            "Requirement already satisfied: cachetools<6.0,>=2.0.0 in /usr/local/lib/python3.10/dist-packages (from google-auth) (5.3.3)\n",
            "Requirement already satisfied: pyasn1-modules>=0.2.1 in /usr/local/lib/python3.10/dist-packages (from google-auth) (0.4.0)\n",
            "Requirement already satisfied: rsa<5,>=3.1.4 in /usr/local/lib/python3.10/dist-packages (from google-auth) (4.9)\n",
            "Requirement already satisfied: pyasn1<0.7.0,>=0.4.6 in /usr/local/lib/python3.10/dist-packages (from pyasn1-modules>=0.2.1->google-auth) (0.6.0)\n",
            "Drive already mounted at /content/drive; to attempt to forcibly remount, call drive.mount(\"/content/drive\", force_remount=True).\n"
          ]
        }
      ]
    },
    {
      "cell_type": "code",
      "execution_count": 32,
      "metadata": {
        "id": "HbQIUW7Pgkql",
        "outputId": "09447068-1ea1-4b40-935b-6d64c88fbc46",
        "colab": {
          "base_uri": "https://localhost:8080/"
        }
      },
      "outputs": [
        {
          "output_type": "stream",
          "name": "stdout",
          "text": [
            "Requirement already satisfied: onnx in /usr/local/lib/python3.10/dist-packages (1.16.1)\n",
            "Requirement already satisfied: numpy>=1.20 in /usr/local/lib/python3.10/dist-packages (from onnx) (1.25.2)\n",
            "Requirement already satisfied: protobuf>=3.20.2 in /usr/local/lib/python3.10/dist-packages (from onnx) (3.20.3)\n",
            "Requirement already satisfied: onnx_tf in /usr/local/lib/python3.10/dist-packages (1.10.0)\n",
            "Requirement already satisfied: onnx>=1.10.2 in /usr/local/lib/python3.10/dist-packages (from onnx_tf) (1.16.1)\n",
            "Requirement already satisfied: PyYAML in /usr/local/lib/python3.10/dist-packages (from onnx_tf) (6.0.1)\n",
            "Requirement already satisfied: tensorflow-addons in /usr/local/lib/python3.10/dist-packages (from onnx_tf) (0.23.0)\n",
            "Requirement already satisfied: numpy>=1.20 in /usr/local/lib/python3.10/dist-packages (from onnx>=1.10.2->onnx_tf) (1.25.2)\n",
            "Requirement already satisfied: protobuf>=3.20.2 in /usr/local/lib/python3.10/dist-packages (from onnx>=1.10.2->onnx_tf) (3.20.3)\n",
            "Requirement already satisfied: packaging in /usr/local/lib/python3.10/dist-packages (from tensorflow-addons->onnx_tf) (24.1)\n",
            "Requirement already satisfied: typeguard<3.0.0,>=2.7 in /usr/local/lib/python3.10/dist-packages (from tensorflow-addons->onnx_tf) (2.13.3)\n"
          ]
        }
      ],
      "source": [
        "  # !pip install torchvision\n",
        "!pip install onnx\n",
        "  # !pip install tensorflow\n",
        "!pip install onnx_tf\n",
        "import torch\n",
        "import torch.onnx\n",
        "import torch.nn as nn\n",
        "import torch.nn.functional as F\n",
        "from torch.autograd import Variable\n",
        "import onnx\n",
        "from onnx_tf.backend import prepare"
      ]
    },
    {
      "cell_type": "code",
      "source": [
        "# Define the Model class\n",
        "class Model(nn.Module):\n",
        "    def __init__(self, in_features=6, h1=61, h2=60, out_features=1):\n",
        "        super(Model, self).__init__()\n",
        "        self.fc1 = nn.Linear(in_features, h1)\n",
        "        self.fc2 = nn.Linear(h1, h2)\n",
        "        self.out = nn.Linear(h2, out_features)\n",
        "        self.sigmoid = nn.Sigmoid()\n",
        "\n",
        "    def forward(self, x):\n",
        "        x = self.sigmoid(self.fc1(x))\n",
        "        x = self.sigmoid(self.fc2(x))\n",
        "        x = self.out(x)\n",
        "        return x"
      ],
      "metadata": {
        "id": "EIHVJHxizvOw"
      },
      "execution_count": 33,
      "outputs": []
    },
    {
      "cell_type": "code",
      "source": [],
      "metadata": {
        "id": "tl38VN5Gz4iB"
      },
      "execution_count": 33,
      "outputs": []
    },
    {
      "cell_type": "code",
      "source": [
        "# Step 1: Export PyTorch model to ONNX format\n",
        "def export_pytorch_to_onnx(model, dummy_input, onnx_file_path):\n",
        "    torch.onnx.export(\n",
        "        model,\n",
        "        dummy_input,\n",
        "        onnx_file_path,\n",
        "        export_params=True,\n",
        "        opset_version=11,\n",
        "        do_constant_folding=True,\n",
        "        input_names=['input'],\n",
        "        output_names=['output']\n",
        "    )\n",
        "\n",
        "# Step 2: Convert ONNX model to TensorFlow SavedModel format\n",
        "def convert_onnx_to_tf(onnx_file_path, tf_export_path):\n",
        "    onnx_model = onnx.load(onnx_file_path)\n",
        "    tf_rep = prepare(onnx_model)\n",
        "    tf_rep.export_graph(tf_export_path)\n",
        "\n",
        "# Load the saved PyTorch model\n",
        "model = Model()\n",
        "model.load_state_dict(torch.load('/content/drive/MyDrive/airfoil_model.pt'))\n",
        "model.eval()\n",
        "\n",
        "# Create a dummy input tensor with the same shape as your input data\n",
        "dummy_input = Variable(torch.randn(1, 6))  # Adjust shape as necessary\n",
        "\n",
        "# Define file paths\n",
        "onnx_file_path = \"/content/drive/MyDrive/airfoil_model.onnx\"\n",
        "tf_export_path = \"/content/drive/MyDrive/airfoil_model_tf\"\n",
        "\n",
        "# Perform the conversion\n",
        "export_pytorch_to_onnx(model, dummy_input, onnx_file_path)\n",
        "convert_onnx_to_tf(onnx_file_path, tf_export_path)\n",
        "\n",
        "print(f\"Model successfully converted to TensorFlow SavedModel format and saved in {tf_export_path} directory\")\n"
      ],
      "metadata": {
        "id": "9cQDM0Ddg4-d",
        "colab": {
          "base_uri": "https://localhost:8080/"
        },
        "outputId": "7487f338-faf6-4130-cf70-266ff6010c73"
      },
      "execution_count": 34,
      "outputs": [
        {
          "output_type": "stream",
          "name": "stdout",
          "text": [
            "Model successfully converted to TensorFlow SavedModel format and saved in /content/drive/MyDrive/airfoil_model_tf directory\n"
          ]
        }
      ]
    }
  ]
}