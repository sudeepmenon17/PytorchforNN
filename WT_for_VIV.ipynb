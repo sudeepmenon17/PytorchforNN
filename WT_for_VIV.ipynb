{
  "nbformat": 4,
  "nbformat_minor": 0,
  "metadata": {
    "colab": {
      "provenance": [],
      "authorship_tag": "ABX9TyP9N2i3XnHv1ZPbAQlMJ3e+",
      "include_colab_link": true
    },
    "kernelspec": {
      "name": "python3",
      "display_name": "Python 3"
    },
    "language_info": {
      "name": "python"
    }
  },
  "cells": [
    {
      "cell_type": "markdown",
      "metadata": {
        "id": "view-in-github",
        "colab_type": "text"
      },
      "source": [
        "<a href=\"https://colab.research.google.com/github/sudeepmenon17/PytorchforNN/blob/main/WT_for_VIV.ipynb\" target=\"_parent\"><img src=\"https://colab.research.google.com/assets/colab-badge.svg\" alt=\"Open In Colab\"/></a>"
      ]
    },
    {
      "cell_type": "code",
      "execution_count": 2,
      "metadata": {
        "id": "VlClcdhqE4Hp",
        "colab": {
          "base_uri": "https://localhost:8080/"
        },
        "outputId": "93a4d0e2-acc7-4fe4-c284-cb4fbdd099f8"
      },
      "outputs": [
        {
          "output_type": "stream",
          "name": "stdout",
          "text": [
            "Requirement already satisfied: google-auth in /usr/local/lib/python3.10/dist-packages (2.27.0)\n",
            "Requirement already satisfied: cachetools<6.0,>=2.0.0 in /usr/local/lib/python3.10/dist-packages (from google-auth) (5.5.0)\n",
            "Requirement already satisfied: pyasn1-modules>=0.2.1 in /usr/local/lib/python3.10/dist-packages (from google-auth) (0.4.1)\n",
            "Requirement already satisfied: rsa<5,>=3.1.4 in /usr/local/lib/python3.10/dist-packages (from google-auth) (4.9)\n",
            "Requirement already satisfied: pyasn1<0.7.0,>=0.4.6 in /usr/local/lib/python3.10/dist-packages (from pyasn1-modules>=0.2.1->google-auth) (0.6.1)\n",
            "Mounted at /content/drive\n"
          ]
        }
      ],
      "source": [
        "\n",
        "!pip install google-auth\n",
        "from google.colab import auth\n",
        "from google.colab import drive\n",
        "\n",
        "drive.mount('/content/drive')\n"
      ]
    },
    {
      "cell_type": "code",
      "source": [
        "#!ls /content/drive/MyDrive/"
      ],
      "metadata": {
        "colab": {
          "base_uri": "https://localhost:8080/"
        },
        "id": "Co-K_DB8FOdW",
        "outputId": "a4b7af3f-706d-4b2a-dd76-dc2f923dfd7b"
      },
      "execution_count": 4,
      "outputs": [
        {
          "output_type": "stream",
          "name": "stdout",
          "text": [
            " Aadhar_lakshmi.docx\t\t\t\t     model_test.png\n",
            " Aadhar_sudeep.docx\t\t\t\t     my_model.onnx\n",
            " airfoil_model.keras\t\t\t\t    'New Doc 2019-01-09 20.58.00.pdf'\n",
            " airfoil_model_tf\t\t\t\t    'New Doc 2019-05-06 19.36.52.pdf'\n",
            " airfoil_model_tf_final\t\t\t\t    'New Doc 2019-05-10 23.45.12_1.jpg'\n",
            " aoa14_beta_predicted_tecplot.dat\t\t    'New Doc 2019-05-10 23.45.12_2.jpg'\n",
            " aoa14_beta_tecplot.dat\t\t\t\t    'New Doc 2019-05-10 23.45.12.pdf'\n",
            " best_model.keras\t\t\t\t     Passport_lakshmi.docx\n",
            " beta11.txt\t\t\t\t\t     Passport_sudeep.docx\n",
            " beta1.txt\t\t\t\t\t    'passprt (1).pdf'\n",
            " beta22.txt\t\t\t\t\t     passprt.pdf\n",
            " beta2.txt\t\t\t\t\t     pytorch_model_karim_converted.pt\n",
            " beta33.txt\t\t\t\t\t     pytorch_model_karim.onnx\n",
            " beta3.txt\t\t\t\t\t     pytorch_model_karim.pth\n",
            " beta44.txt\t\t\t\t\t     Re500_RV5_D0p9\n",
            " beta4.txt\t\t\t\t\t     Resume.pdf\n",
            " CheckInReceipt.pdf\t\t\t\t     RESUME.pdf\n",
            "'Colab Notebooks'\t\t\t\t     SKMBT_C224e16011411180.pdf\n",
            " data_set1.csv\t\t\t\t\t     SSR_TSRPT.pdf\n",
            " data_set2.csv\t\t\t\t\t     starccm_report.csv\n",
            " data_set3.csv\t\t\t\t\t    'Sudeep Menon-1456-A.pdf'\n",
            " data_set4.csv\t\t\t\t\t    'Sudeep Menon-1456-B.PDF'\n",
            "'Deep learning'\t\t\t\t\t     sudeep-resume.gdoc\n",
            " IMG-20160921-WA0001.jpg\t\t\t    'Sudeeps Documents'\n",
            "'Imported from Google Notebook - My Notebook.gdoc'   tf_final\n",
            " komegaSST_data\t\t\t\t\t     tf_karim_final.keras\n",
            " kra2021.xlsx\t\t\t\t\t     tf_karim_final_saved_model\n",
            "'Lakshmis Documents'\t\t\t\t     ticket.pdf\n",
            "'Marriage Documents'\t\t\t\t    'Travel Currency Card Reload Form.pdf'\n",
            " model_loss_plot.png\n"
          ]
        }
      ]
    },
    {
      "cell_type": "markdown",
      "source": [],
      "metadata": {
        "id": "ZY2z-1DwH3QT"
      }
    },
    {
      "cell_type": "code",
      "source": [
        "import numpy as np\n",
        "from scipy.io import loadmat, savemat\n",
        "\n",
        "# Load the .mat files\n",
        "vor_data = loadmat('/content/drive/MyDrive/Re500_RV5_D0p9/VORTALL.mat')\n",
        "time_data = loadmat('/content/drive/MyDrive/Re500_RV5_D0p9/Time.mat')\n",
        "points_data = loadmat('/content/drive/MyDrive/Re500_RV5_D0p9/points.mat')\n",
        "\n",
        "# Extract necessary variables\n",
        "VORTALL = vor_data['VORTALL']  # Vorticity data\n",
        "Time = time_data['Time'].flatten()  # Time vector (flatten to 1D)\n",
        "points = points_data['points']  # Points array\n"
      ],
      "metadata": {
        "id": "8vwc9C2vHYuv"
      },
      "execution_count": 12,
      "outputs": []
    },
    {
      "cell_type": "code",
      "source": [
        "# Transformation parameters\n",
        "t0 = 400            # Reference time step\n",
        "A = 0.5             # Amplitude of sinusoidal motion\n",
        "omega = 0.2513    # Frequency of oscillation (RV = 5)\n",
        "y0 = A * np.sin(t0 * omega)  # Baseline vertical offset\n",
        "\n",
        "# Extract x and y coordinates of points\n",
        "px = points[:, 0]  # x-coordinates\n",
        "py = points[:, 1]  # y-coordinates"
      ],
      "metadata": {
        "id": "y-ZLBNU6HkOZ"
      },
      "execution_count": 13,
      "outputs": []
    },
    {
      "cell_type": "code",
      "source": [
        "# Initialize new y-coordinates for each time step\n",
        "py_transformed = []\n",
        "\n",
        "# Apply the sinusoidal transformation for each time step\n",
        "for t in Time:\n",
        "    py_new = py + A * np.sin(t * omega) - y0\n",
        "    py_transformed.append(py_new)\n",
        "\n",
        "# Convert the list to a numpy array for consistency\n",
        "py_transformed = np.array(py_transformed).T  # Transpose to match the MATLAB output shape\n",
        "\n",
        "\n",
        "output_data = {\n",
        "    'px': px,  # Original x-coordinates (unchanged)\n",
        "    'py_transformed': py_transformed,  # Transformed y-coordinates\n",
        "    'Time': Time  # Time array\n",
        "}\n",
        "savemat('/content/drive/MyDrive/Re500_RV5_D0p9/Ground_data.mat', output_data)\n",
        "\n",
        "print(\"Transformation complete. Transformed data saved to 'Ground_data.mat'.\")"
      ],
      "metadata": {
        "colab": {
          "base_uri": "https://localhost:8080/"
        },
        "id": "agzdXRtDH_uu",
        "outputId": "1feb6706-6010-416a-9659-e4765db9db85"
      },
      "execution_count": 16,
      "outputs": [
        {
          "output_type": "stream",
          "name": "stdout",
          "text": [
            "Transformation complete. Transformed data saved to 'Ground_data.mat'.\n"
          ]
        }
      ]
    },
    {
      "cell_type": "code",
      "source": [],
      "metadata": {
        "id": "TwyzGOv9Nmx0"
      },
      "execution_count": null,
      "outputs": []
    },
    {
      "cell_type": "code",
      "source": [
        "!pip install PyWavelets\n",
        "import pywt\n",
        "import matplotlib.pyplot as plt\n",
        "import matplotlib.animation as animation\n",
        "from IPython.display import HTML"
      ],
      "metadata": {
        "colab": {
          "base_uri": "https://localhost:8080/"
        },
        "id": "0IjYutKbKrfF",
        "outputId": "a4ff2add-c933-4242-e16b-9a3914b3c5ad"
      },
      "execution_count": 30,
      "outputs": [
        {
          "output_type": "stream",
          "name": "stdout",
          "text": [
            "Requirement already satisfied: PyWavelets in /usr/local/lib/python3.10/dist-packages (1.8.0)\n",
            "Requirement already satisfied: numpy<3,>=1.23 in /usr/local/lib/python3.10/dist-packages (from PyWavelets) (1.26.4)\n"
          ]
        }
      ]
    },
    {
      "cell_type": "code",
      "source": [
        "# Load the transformed ground data\n",
        "data = loadmat('/content/drive/MyDrive/Re500_RV5_D0p9/Ground_data.mat')\n",
        "\n",
        "# Extract relevant data\n",
        "px = data['px'].flatten()  # x-coordinates\n",
        "py_transformed = data['py_transformed']  # Transformed y-coordinates\n",
        "Time = data['Time'].flatten()  # Time array\n",
        "\n",
        "# Create a grid for visualization\n",
        "nx = len(np.unique(px))  # Assume regular grid\n",
        "ny = py_transformed.shape[0] // nx\n",
        "x_grid = px.reshape(ny, nx)\n",
        "y_grid = py_transformed[:, 0].reshape(ny, nx)  # Use the initial time step as a reference\n",
        "\n",
        "# Initialize the figure\n",
        "fig, ax = plt.subplots()\n",
        "cax = ax.pcolormesh(x_grid, y_grid, py_transformed[:, 0].reshape(ny, nx), cmap='viridis')\n",
        "fig.colorbar(cax, ax=ax)\n",
        "title = ax.set_title(\"Time = {:.2f}\".format(Time[0]))\n",
        "\n",
        "def update(frame):\n",
        "    ax.clear()\n",
        "    cax = ax.pcolormesh(\n",
        "        x_grid, y_grid, py_transformed[:, frame].reshape(ny, nx), cmap='viridis'\n",
        "    )\n",
        "    ax.set_title(\"Time = {:.2f}\".format(Time[frame]))\n",
        "    return cax\n",
        "# Create the animation\n",
        "ani = animation.FuncAnimation(fig, update, frames=len(Time), interval=100, repeat=True)\n",
        "\n",
        "# Save and display animation in HTML format\n",
        "HTML(ani.to_jshtml())\n"
      ],
      "metadata": {
        "id": "rJ6y1BY8MrEO",
        "outputId": "eab8937c-82f1-4271-fcce-7a4180f52666",
        "colab": {
          "base_uri": "https://localhost:8080/"
        }
      },
      "execution_count": null,
      "outputs": [
        {
          "output_type": "stream",
          "name": "stderr",
          "text": [
            "<ipython-input-32-a590b232e46d>:17: UserWarning: The input coordinates to pcolormesh are interpreted as cell centers, but are not monotonically increasing or decreasing. This may lead to incorrectly calculated cell edges, in which case, please supply explicit cell edges to pcolormesh.\n",
            "  cax = ax.pcolormesh(x_grid, y_grid, py_transformed[:, 0].reshape(ny, nx), cmap='viridis')\n",
            "<ipython-input-32-a590b232e46d>:23: UserWarning: The input coordinates to pcolormesh are interpreted as cell centers, but are not monotonically increasing or decreasing. This may lead to incorrectly calculated cell edges, in which case, please supply explicit cell edges to pcolormesh.\n",
            "  cax = ax.pcolormesh(\n"
          ]
        }
      ]
    },
    {
      "cell_type": "code",
      "source": [],
      "metadata": {
        "id": "RjSTpw46M_Mi"
      },
      "execution_count": 28,
      "outputs": []
    },
    {
      "cell_type": "code",
      "source": [],
      "metadata": {
        "id": "FffZWlOENMSn"
      },
      "execution_count": null,
      "outputs": []
    }
  ]
}